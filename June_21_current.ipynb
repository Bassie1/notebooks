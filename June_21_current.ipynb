{
  "nbformat": 4,
  "nbformat_minor": 0,
  "metadata": {
    "deepnote": {
      "is_reactive": false
    },
    "deepnote_execution_queue": [],
    "deepnote_notebook_id": "d57a4b24-3cb3-42fb-a957-fafca26b1495",
    "kernelspec": {
      "display_name": "Python 3",
      "language": "python",
      "name": "python3"
    },
    "language_info": {
      "codemirror_mode": {
        "name": "ipython",
        "version": 3
      },
      "file_extension": ".py",
      "mimetype": "text/x-python",
      "name": "python",
      "nbconvert_exporter": "python",
      "pygments_lexer": "ipython3",
      "version": "3.8.5"
    },
    "colab": {
      "name": "June 21 current.ipynb",
      "provenance": [],
      "include_colab_link": true
    }
  },
  "cells": [
    {
      "cell_type": "markdown",
      "metadata": {
        "id": "view-in-github",
        "colab_type": "text"
      },
      "source": [
        "<a href=\"https://colab.research.google.com/github/Bassie1/notebooks/blob/main/June_21_current.ipynb\" target=\"_parent\"><img src=\"https://colab.research.google.com/assets/colab-badge.svg\" alt=\"Open In Colab\"/></a>"
      ]
    },
    {
      "cell_type": "code",
      "metadata": {
        "cell_id": "00000-af3793be-963b-4938-9f55-c9ce02448998",
        "deepnote_cell_type": "code",
        "deepnote_to_be_reexecuted": false,
        "execution_millis": 11058,
        "execution_start": 1622966752571,
        "source_hash": "533152f9",
        "tags": [],
        "id": "RE8j6hENjbFC"
      },
      "source": [
        "#!pip install --trusted-host files.pythonhosted.org --trusted-host pypi.org pytorch-forecasting"
      ],
      "execution_count": null,
      "outputs": []
    },
    {
      "cell_type": "code",
      "metadata": {
        "id": "ozrQbTvdjbFF"
      },
      "source": [
        "\n",
        "import os\n",
        "import warnings\n",
        "\n",
        "warnings.filterwarnings(\"ignore\")  # avoid printing out absolute paths\n",
        "\n",
        "#os.chdir(\"../../..\")\n"
      ],
      "execution_count": null,
      "outputs": []
    },
    {
      "cell_type": "code",
      "metadata": {
        "cell_id": "00002-be0cb21e-72f9-49bc-a750-2ddb6efded2e",
        "deepnote_cell_type": "code",
        "deepnote_to_be_reexecuted": false,
        "execution_millis": 4922,
        "execution_start": 1622966952291,
        "source_hash": "b2c2f4ef",
        "tags": [],
        "id": "xgxaM-QYjbFF"
      },
      "source": [
        "import copy\n",
        "from pathlib import Path\n",
        "import warnings\n",
        "\n",
        "import numpy as np\n",
        "import pandas as pd\n",
        "import pytorch_lightning as pl\n",
        "from pytorch_lightning.callbacks import EarlyStopping, LearningRateMonitor\n",
        "from pytorch_lightning.loggers import TensorBoardLogger\n",
        "import torch\n",
        "#from pytorch_forecasting import pytorch_lightning as pl\n",
        "from pytorch_forecasting import Baseline, TemporalFusionTransformer, TimeSeriesDataSet\n",
        "from pytorch_forecasting.data import GroupNormalizer\n",
        "from pytorch_forecasting.metrics import SMAPE, PoissonLoss, QuantileLoss\n",
        "from pytorch_forecasting.models.temporal_fusion_transformer.tuning import optimize_hyperparameters\n",
        "from pytorch_forecasting.data.encoders import NaNLabelEncoder"
      ],
      "execution_count": null,
      "outputs": []
    },
    {
      "cell_type": "code",
      "metadata": {
        "id": "feinwQzIjbFG",
        "outputId": "52130faf-f771-4ddc-b1e3-f685b3d6898b"
      },
      "source": [
        "torch. __version__"
      ],
      "execution_count": null,
      "outputs": [
        {
          "output_type": "execute_result",
          "data": {
            "text/plain": [
              "'1.9.0+cu102'"
            ]
          },
          "metadata": {
            "tags": []
          },
          "execution_count": 4
        }
      ]
    },
    {
      "cell_type": "code",
      "metadata": {
        "id": "_bRwcVlCjbFH",
        "outputId": "b84c17f5-40c8-453e-b882-2bc0bfa7a6bb"
      },
      "source": [
        "pl. __version__"
      ],
      "execution_count": null,
      "outputs": [
        {
          "output_type": "execute_result",
          "data": {
            "text/plain": [
              "'1.3.3'"
            ]
          },
          "metadata": {
            "tags": []
          },
          "execution_count": 5
        }
      ]
    },
    {
      "cell_type": "code",
      "metadata": {
        "cell_id": "00002-9a9448fd-86ad-4644-9324-1ef28f68d340",
        "deepnote_cell_type": "code",
        "deepnote_to_be_reexecuted": true,
        "execution_millis": 1188,
        "execution_start": 1622964925778,
        "source_hash": "34da70d2",
        "tags": [],
        "id": "ZWQOU5AQjbFH"
      },
      "source": [
        "products4 = pd.read_csv('merged_grouped_by_date')\n",
        "#products4=products4orig.copy()"
      ],
      "execution_count": null,
      "outputs": []
    },
    {
      "cell_type": "code",
      "metadata": {
        "id": "rEmgxNFdjbFI",
        "outputId": "b18ec754-152d-4b71-a69d-4fa0fb8bb3ea"
      },
      "source": [
        "products4.info(verbose=True, null_counts=True)"
      ],
      "execution_count": null,
      "outputs": [
        {
          "output_type": "stream",
          "text": [
            "<class 'pandas.core.frame.DataFrame'>\n",
            "RangeIndex: 807584 entries, 0 to 807583\n",
            "Data columns (total 8 columns):\n",
            " #   Column            Non-Null Count   Dtype  \n",
            "---  ------            --------------   -----  \n",
            " 0   Unnamed: 0        807584 non-null  int64  \n",
            " 1   asin              807584 non-null  object \n",
            " 2   date              807584 non-null  object \n",
            " 3   sales             807584 non-null  float64\n",
            " 4   count_new         807584 non-null  float64\n",
            " 5   buy_box_shipping  807584 non-null  float64\n",
            " 6   time_idx          807584 non-null  float64\n",
            " 7   sales_rank        807584 non-null  float64\n",
            "dtypes: float64(5), int64(1), object(2)\n",
            "memory usage: 49.3+ MB\n"
          ],
          "name": "stdout"
        }
      ]
    },
    {
      "cell_type": "code",
      "metadata": {
        "cell_id": "00003-9753e788-e58b-4e3f-83a0-00b5c226218e",
        "deepnote_cell_type": "code",
        "deepnote_to_be_reexecuted": true,
        "execution_millis": 88,
        "execution_start": 1622964926972,
        "source_hash": "dc348cb3",
        "tags": [],
        "id": "gqS52a-ejbFI"
      },
      "source": [
        "products4=products4.drop(['Unnamed: 0', 'sales_rank'], axis=1) \n",
        "products4=products4.rename(columns={'sales':'sales_rank'})"
      ],
      "execution_count": null,
      "outputs": []
    },
    {
      "cell_type": "code",
      "metadata": {
        "cell_id": "00004-3605af14-f8c4-4b13-bec6-6c8f2b1a1914",
        "deepnote_cell_type": "code",
        "deepnote_to_be_reexecuted": true,
        "execution_millis": 145,
        "execution_start": 1622964927075,
        "source_hash": "beb5b7d8",
        "tags": [],
        "id": "mChYjYdJjbFI",
        "outputId": "82902504-bb31-4805-a10f-bda1cc171fca"
      },
      "source": [
        "products4.isnull().sum()"
      ],
      "execution_count": null,
      "outputs": [
        {
          "output_type": "execute_result",
          "data": {
            "text/plain": [
              "asin                0\n",
              "date                0\n",
              "sales_rank          0\n",
              "count_new           0\n",
              "buy_box_shipping    0\n",
              "time_idx            0\n",
              "dtype: int64"
            ]
          },
          "metadata": {
            "tags": []
          },
          "execution_count": 9
        }
      ]
    },
    {
      "cell_type": "code",
      "metadata": {
        "cell_id": "00010-f7fbbed6-de4d-45dd-bbf9-6b4b66254478",
        "deepnote_cell_type": "code",
        "deepnote_to_be_reexecuted": true,
        "execution_millis": 68,
        "execution_start": 1622964927326,
        "source_hash": "a841db52",
        "tags": [],
        "id": "ZLqZqQlNjbFJ",
        "outputId": "b5a27567-ea66-486c-a2ee-6658f4524ade"
      },
      "source": [
        "\n",
        "products4['date'] =  pd.to_datetime(products4['date'], infer_datetime_format=True)\n",
        "products4['date'].head()"
      ],
      "execution_count": null,
      "outputs": [
        {
          "output_type": "execute_result",
          "data": {
            "text/plain": [
              "0   2020-06-19\n",
              "1   2020-06-23\n",
              "2   2020-07-03\n",
              "3   2020-07-06\n",
              "4   2020-07-09\n",
              "Name: date, dtype: datetime64[ns]"
            ]
          },
          "metadata": {
            "tags": []
          },
          "execution_count": 10
        }
      ]
    },
    {
      "cell_type": "code",
      "metadata": {
        "cell_id": "00015-3503d40b-a815-4d99-b9cc-e41ba19426ff",
        "deepnote_cell_type": "code",
        "deepnote_to_be_reexecuted": true,
        "execution_millis": 9,
        "execution_start": 1622964927750,
        "source_hash": "264ac096",
        "tags": [],
        "id": "xNZAO7g_jbFJ"
      },
      "source": [
        "# add additional features\n",
        "# categories have to be strings\n",
        "products4[\"month\"] = products4['date'].dt.month.astype(str).astype(\"category\")"
      ],
      "execution_count": null,
      "outputs": []
    },
    {
      "cell_type": "markdown",
      "metadata": {
        "cell_id": "00016-ff5694ef-9182-49bf-9c69-cea9ad8f0ae0",
        "deepnote_cell_type": "markdown",
        "tags": [],
        "id": "dACEzIrMjbFJ"
      },
      "source": [
        "Leaving for future work: Could use price to add in these features - group by product and year/quarter/time index, transform on mean, mode, or min (how 14 or 50?) \n",
        "Current ROI Avg ROI,(90D) Avg ROI , (year) Most common ROI (year), Lowest ROI (14 for 90), Lowest ROI (50 for 365)\n",
        "products4[\"avg_price_by_product\"] = (\n",
        "    data\n",
        "    .groupby([\"time_idx\", \"name\"], observed=True)\n",
        "    .volume.transform(\"mean\")\n",
        ")\n",
        "d[\"avg_volume_by_agency\"] = (\n",
        "    data\n",
        "    .groupby([\"time_idx\", \"agency\"], observed=True)\n",
        "    .volume.transform(\"mean\")\n",
        ")"
      ]
    },
    {
      "cell_type": "code",
      "metadata": {
        "id": "uujyCUncjbFK",
        "outputId": "b2ebd700-19aa-40f7-cf6a-54d708029817"
      },
      "source": [
        "products4.info(verbose=True, null_counts=True)"
      ],
      "execution_count": null,
      "outputs": [
        {
          "output_type": "stream",
          "text": [
            "<class 'pandas.core.frame.DataFrame'>\n",
            "RangeIndex: 807584 entries, 0 to 807583\n",
            "Data columns (total 7 columns):\n",
            " #   Column            Non-Null Count   Dtype         \n",
            "---  ------            --------------   -----         \n",
            " 0   asin              807584 non-null  object        \n",
            " 1   date              807584 non-null  datetime64[ns]\n",
            " 2   sales_rank        807584 non-null  float64       \n",
            " 3   count_new         807584 non-null  float64       \n",
            " 4   buy_box_shipping  807584 non-null  float64       \n",
            " 5   time_idx          807584 non-null  float64       \n",
            " 6   month             807584 non-null  category      \n",
            "dtypes: category(1), datetime64[ns](1), float64(4), object(1)\n",
            "memory usage: 37.7+ MB\n"
          ],
          "name": "stdout"
        }
      ]
    },
    {
      "cell_type": "code",
      "metadata": {
        "id": "xWdIWoTNjbFK"
      },
      "source": [
        "\n",
        "products4['asin']=products4['asin'].astype('str')\n",
        "#products4['month']=products4['month'].astype('str')"
      ],
      "execution_count": null,
      "outputs": []
    },
    {
      "cell_type": "code",
      "metadata": {
        "id": "EmYFHMpdjbFK",
        "outputId": "8f46ebd2-884c-460c-8a54-d452b7e12df4"
      },
      "source": [
        "len(products4['asin'].unique())"
      ],
      "execution_count": null,
      "outputs": [
        {
          "output_type": "execute_result",
          "data": {
            "text/plain": [
              "22110"
            ]
          },
          "metadata": {
            "tags": []
          },
          "execution_count": 18
        }
      ]
    },
    {
      "cell_type": "code",
      "metadata": {
        "id": "HB2ZJd-KjbFL"
      },
      "source": [
        "#pd.set_option('max_rows',1000)"
      ],
      "execution_count": null,
      "outputs": []
    },
    {
      "cell_type": "code",
      "metadata": {
        "id": "COUGQqiDjbFL"
      },
      "source": [
        "count=0\n",
        "full_time_set = set([0,1,2,3,4,5,6,7,8,9,10,11,12])\n",
        "asin_list=[]\n",
        "for asin in products4['asin'].unique().tolist():\n",
        "    one_asin_df = products4[products4['asin']==asin]\n",
        "    time_idx_set = set(one_asin_df['time_idx'].tolist())\n",
        "    if full_time_set.issubset(time_idx_set):\n",
        "        asin_list.append(asin)\n",
        "   "
      ],
      "execution_count": null,
      "outputs": []
    },
    {
      "cell_type": "code",
      "metadata": {
        "id": "rnJzdaCtjbFL",
        "outputId": "5d14398f-cf01-4ae1-b7c9-3d932e0b9432"
      },
      "source": [
        "len(asin_list)"
      ],
      "execution_count": null,
      "outputs": [
        {
          "output_type": "execute_result",
          "data": {
            "text/plain": [
              "2739"
            ]
          },
          "metadata": {
            "tags": []
          },
          "execution_count": 21
        }
      ]
    },
    {
      "cell_type": "code",
      "metadata": {
        "id": "3dRtNuTJjbFL",
        "outputId": "a4754beb-e158-4d08-d41e-cc5a227e1759"
      },
      "source": [
        "products4['time_idx']=products4['time_idx'].astype('int8')\n",
        "products4.head()"
      ],
      "execution_count": null,
      "outputs": [
        {
          "output_type": "execute_result",
          "data": {
            "text/html": [
              "<div>\n",
              "<style scoped>\n",
              "    .dataframe tbody tr th:only-of-type {\n",
              "        vertical-align: middle;\n",
              "    }\n",
              "\n",
              "    .dataframe tbody tr th {\n",
              "        vertical-align: top;\n",
              "    }\n",
              "\n",
              "    .dataframe thead th {\n",
              "        text-align: right;\n",
              "    }\n",
              "</style>\n",
              "<table border=\"1\" class=\"dataframe\">\n",
              "  <thead>\n",
              "    <tr style=\"text-align: right;\">\n",
              "      <th></th>\n",
              "      <th>asin</th>\n",
              "      <th>date</th>\n",
              "      <th>sales_rank</th>\n",
              "      <th>count_new</th>\n",
              "      <th>buy_box_shipping</th>\n",
              "      <th>time_idx</th>\n",
              "      <th>month</th>\n",
              "    </tr>\n",
              "  </thead>\n",
              "  <tbody>\n",
              "    <tr>\n",
              "      <th>0</th>\n",
              "      <td>0805470859</td>\n",
              "      <td>2020-06-19</td>\n",
              "      <td>9201.750000</td>\n",
              "      <td>8.0</td>\n",
              "      <td>18.98</td>\n",
              "      <td>0</td>\n",
              "      <td>6</td>\n",
              "    </tr>\n",
              "    <tr>\n",
              "      <th>1</th>\n",
              "      <td>0805470859</td>\n",
              "      <td>2020-06-23</td>\n",
              "      <td>11465.666667</td>\n",
              "      <td>9.0</td>\n",
              "      <td>18.98</td>\n",
              "      <td>0</td>\n",
              "      <td>6</td>\n",
              "    </tr>\n",
              "    <tr>\n",
              "      <th>2</th>\n",
              "      <td>0805470859</td>\n",
              "      <td>2020-07-03</td>\n",
              "      <td>10141.714286</td>\n",
              "      <td>4.0</td>\n",
              "      <td>18.98</td>\n",
              "      <td>1</td>\n",
              "      <td>7</td>\n",
              "    </tr>\n",
              "    <tr>\n",
              "      <th>3</th>\n",
              "      <td>0805470859</td>\n",
              "      <td>2020-07-06</td>\n",
              "      <td>9467.500000</td>\n",
              "      <td>5.0</td>\n",
              "      <td>18.98</td>\n",
              "      <td>1</td>\n",
              "      <td>7</td>\n",
              "    </tr>\n",
              "    <tr>\n",
              "      <th>4</th>\n",
              "      <td>0805470859</td>\n",
              "      <td>2020-07-09</td>\n",
              "      <td>8317.300000</td>\n",
              "      <td>6.0</td>\n",
              "      <td>18.98</td>\n",
              "      <td>1</td>\n",
              "      <td>7</td>\n",
              "    </tr>\n",
              "  </tbody>\n",
              "</table>\n",
              "</div>"
            ],
            "text/plain": [
              "         asin       date    sales_rank  count_new  buy_box_shipping  time_idx  \\\n",
              "0  0805470859 2020-06-19   9201.750000        8.0             18.98         0   \n",
              "1  0805470859 2020-06-23  11465.666667        9.0             18.98         0   \n",
              "2  0805470859 2020-07-03  10141.714286        4.0             18.98         1   \n",
              "3  0805470859 2020-07-06   9467.500000        5.0             18.98         1   \n",
              "4  0805470859 2020-07-09   8317.300000        6.0             18.98         1   \n",
              "\n",
              "  month  \n",
              "0     6  \n",
              "1     6  \n",
              "2     7  \n",
              "3     7  \n",
              "4     7  "
            ]
          },
          "metadata": {
            "tags": []
          },
          "execution_count": 22
        }
      ]
    },
    {
      "cell_type": "code",
      "metadata": {
        "id": "BdOpBQsxjbFM"
      },
      "source": [
        "fullproducts=products4[products4['asin'].isin(asin_list)]"
      ],
      "execution_count": null,
      "outputs": []
    },
    {
      "cell_type": "markdown",
      "metadata": {
        "id": "weyjd0aUjbFM"
      },
      "source": [
        "\n",
        "products4.loc[(products4['time_idx']==0) | (products4['time_idx']==1)| (products4['time_idx']==2),'quarter']=1\n",
        "products4.loc[(products4['time_idx']==3) | (products4['time_idx']==4)| (products4['time_idx']==5),'quarter']=2\n",
        "products4.loc[(products4['time_idx']==6) | (products4['time_idx']==7)| (products4['time_idx']==8),'quarter']=3\n",
        "products4.loc[(products4['time_idx']==9) | (products4['time_idx']==10)| (products4['time_idx']==11),'quarter']=4"
      ]
    },
    {
      "cell_type": "markdown",
      "metadata": {
        "id": "3-XUwLT9jbFM"
      },
      "source": [
        "products4 = products4[['type','name','asin','month','time_idx', 'new','sales_rank','count_new','buy_box_shipping']]\n",
        "products4[\"type\"] = products4['type'].astype(\"category\")\n",
        "products4[\"name\"] = products4['name'].astype(\"category\")\n",
        "products4[\"asin\"] = products4['asin'].astype(\"category\")\n",
        "products4[\"time_idx\"] = products4['time_idx'].astype(\"int8\")\n",
        "products4[\"count_new\"] = products4['count_new'].astype(\"float16\")\n",
        "products4['new'] = products4['new'].astype(\"float16\")\n",
        "products4['sales_rank'] = products4['sales_rank'].astype(\"float16\")\n",
        "products4['buy_box_shipping'] = products4['buy_box_shipping'].astype(\"float16\")\n",
        "#nonnull_products = products4.groupby(['type','name','asin','month','time_idx']).mean().reset_index().dropna(axis=0)\n",
        "#nonnull_products"
      ]
    },
    {
      "cell_type": "markdown",
      "metadata": {
        "id": "a211RiFFjbFN"
      },
      "source": [
        "nonnull_products = products4.groupby(['type','name','asin','month','time_idx']).mean().reset_index().dropna(axis=0)\n",
        "nonnull_products"
      ]
    },
    {
      "cell_type": "markdown",
      "metadata": {
        "cell_id": "00021-cf57a74c-e0a5-4d72-95fc-64860be596a1",
        "deepnote_cell_type": "code",
        "deepnote_to_be_reexecuted": true,
        "execution_millis": 284133,
        "execution_start": 1622964928032,
        "source_hash": "f33e5c83",
        "tags": [],
        "id": "chEv76uOjbFN"
      },
      "source": [
        "from pytorch_forecasting.data import (\n",
        "    TimeSeriesDataSet,\n",
        "    GroupNormalizer\n",
        ")\n",
        "df=products4\n",
        "max_prediction_length =  1 # changing to a forecst of 3 months, which is 90 days,from a forecast 6 months\n",
        "max_encoder_length = 3  # using 12 months, which is 360 DAYS, instead of  24 months of history\n",
        "training_cutoff =df[\"quarter\"].max() - max_prediction_length\n",
        "#print(training_cutoff)\n",
        "training = TimeSeriesDataSet(\n",
        "    df[lambda x: x.time_idx <= training_cutoff],\n",
        "    allow_missings=True,\n",
        "    #categorical_encoders={'asin': NaNLabelEncoder(add_nan=True)},\n",
        "    categorical_encoders={'month': NaNLabelEncoder(add_nan=True), 'asin': NaNLabelEncoder(add_nan=True)},\n",
        "    time_idx=\"quarter\",\n",
        "    target=\"buy_box_shipping\",\n",
        "    group_ids=[\"asin\"],\n",
        "    #min_encoder_length=0,  # allow predictions without history\n",
        "    min_encoder_length=max_encoder_length // 2, # time series have a minimum length of 13 (min_prediction_length + min_encoder_length)\n",
        "    max_encoder_length=max_encoder_length,\n",
        "    min_prediction_length=1,\n",
        "    max_prediction_length=max_prediction_length,\n",
        "    static_categoricals=[\"asin\"],\n",
        "    time_varying_known_categoricals=['month'],\n",
        "    time_varying_known_reals=[\n",
        "        \"time_idx\",\n",
        "        \"quarter\",\n",
        "        \"sales_rank\",\n",
        "        'count_new'\n",
        "    ],\n",
        "    time_varying_unknown_categoricals=[],\n",
        "    time_varying_unknown_reals=[\n",
        "        'buy_box_shipping',\n",
        "    ],\n",
        "    target_normalizer=GroupNormalizer(\n",
        "        groups=[\"asin\"], transformation='softplus'\n",
        "    ),  # use softplus with beta=1.0 and normalize by group\n",
        "    add_relative_time_idx=True,  # add as feature\n",
        "    add_target_scales=True,  # add as feature\n",
        "    add_encoder_length=True,  # add as feature\n",
        "    \n",
        ")\n",
        "# create validation set (predict=True) which means to predict the\n",
        "# last max_prediction_length points in time for each series\n",
        "validation = TimeSeriesDataSet.from_dataset(\n",
        "    training, df, predict=True, stop_randomization=True\n",
        ")\n",
        "# create dataloaders for model\n",
        "batch_size = 128\n",
        "train_dataloader = training.to_dataloader(\n",
        "    train=True, batch_size=batch_size, num_workers=0\n",
        ")\n",
        "val_dataloader = validation.to_dataloader(\n",
        "    train=False, batch_size=batch_size * 10, num_workers=0\n",
        ")"
      ]
    },
    {
      "cell_type": "code",
      "metadata": {
        "id": "ry18ytuLjbFN",
        "outputId": "b535e4c4-8ab7-4c01-9d5b-8990f252bc17"
      },
      "source": [
        "device = torch.device('cuda' if torch.cuda.is_available() else 'cpu')\n",
        "device"
      ],
      "execution_count": null,
      "outputs": [
        {
          "output_type": "execute_result",
          "data": {
            "text/plain": [
              "device(type='cuda')"
            ]
          },
          "metadata": {
            "tags": []
          },
          "execution_count": 24
        }
      ]
    },
    {
      "cell_type": "code",
      "metadata": {
        "cell_id": "00021-cf57a74c-e0a5-4d72-95fc-64860be596a1",
        "deepnote_cell_type": "code",
        "deepnote_to_be_reexecuted": true,
        "execution_millis": 284133,
        "execution_start": 1622964928032,
        "source_hash": "f33e5c83",
        "tags": [],
        "id": "oxeHqzG-jbFO"
      },
      "source": [
        "from pytorch_forecasting.data import (\n",
        "    TimeSeriesDataSet,\n",
        "    GroupNormalizer\n",
        ")\n",
        "df=fullproducts\n",
        "max_prediction_length =  3 # changing to a forecst of 3 months, which is 90 days,from a forecast 6 months\n",
        "max_encoder_length = 10  # using 12 months, which is 360 DAYS, instead of  24 months of history\n",
        "training_cutoff =df[\"time_idx\"].max() - max_prediction_length\n",
        "#print(training_cutoff)\n",
        "training = TimeSeriesDataSet(\n",
        "    df[lambda x: x.time_idx <= training_cutoff],\n",
        "    allow_missings=True,\n",
        "    #categorical_encoders={'asin': NaNLabelEncoder(add_nan=True)},\n",
        "    categorical_encoders={'month': NaNLabelEncoder(add_nan=True), 'asin': NaNLabelEncoder(add_nan=True)},\n",
        "    time_idx=\"time_idx\",\n",
        "    target=\"buy_box_shipping\",\n",
        "    group_ids=[\"asin\"],\n",
        "    #min_encoder_length=0,  # allow predictions without history\n",
        "    min_encoder_length=max_encoder_length // 2, # time series have a minimum length of 13 (min_prediction_length + min_encoder_length)\n",
        "    max_encoder_length=max_encoder_length,\n",
        "    min_prediction_length=1,\n",
        "    max_prediction_length=max_prediction_length,\n",
        "    static_categoricals=[\"asin\"],\n",
        "    time_varying_known_categoricals=['month'],\n",
        "    time_varying_known_reals=[\n",
        "        \"time_idx\",\n",
        "        \"sales_rank\",\n",
        "        'count_new'\n",
        "    ],\n",
        "    time_varying_unknown_categoricals=[],\n",
        "    time_varying_unknown_reals=[\n",
        "        'buy_box_shipping',\n",
        "    ],\n",
        "    target_normalizer=GroupNormalizer(\n",
        "        groups=[\"asin\"], transformation='softplus'\n",
        "    ),  # use softplus with beta=1.0 and normalize by group\n",
        "    add_relative_time_idx=True,  # add as feature\n",
        "    add_target_scales=True,  # add as feature\n",
        "    add_encoder_length=True,  # add as feature\n",
        "    \n",
        ")\n",
        "# create validation set (predict=True) which means to predict the\n",
        "# last max_prediction_length points in time for each series\n",
        "validation = TimeSeriesDataSet.from_dataset(\n",
        "    training, df, predict=True, stop_randomization=True\n",
        ")\n",
        "# create dataloaders for model\n",
        "batch_size = 128\n",
        "train_dataloader = training.to_dataloader(\n",
        "    train=True, batch_size=batch_size, num_workers=0\n",
        ")\n",
        "val_dataloader = validation.to_dataloader(\n",
        "    train=False, batch_size=batch_size * 10, num_workers=0, drop_last=True\n",
        ")"
      ],
      "execution_count": null,
      "outputs": []
    },
    {
      "cell_type": "code",
      "metadata": {
        "id": "POOFmjKhjbFP",
        "outputId": "dcdb53dc-6787-45bb-df85-7837abda5bde"
      },
      "source": [
        "df.head()"
      ],
      "execution_count": null,
      "outputs": [
        {
          "output_type": "execute_result",
          "data": {
            "text/html": [
              "<div>\n",
              "<style scoped>\n",
              "    .dataframe tbody tr th:only-of-type {\n",
              "        vertical-align: middle;\n",
              "    }\n",
              "\n",
              "    .dataframe tbody tr th {\n",
              "        vertical-align: top;\n",
              "    }\n",
              "\n",
              "    .dataframe thead th {\n",
              "        text-align: right;\n",
              "    }\n",
              "</style>\n",
              "<table border=\"1\" class=\"dataframe\">\n",
              "  <thead>\n",
              "    <tr style=\"text-align: right;\">\n",
              "      <th></th>\n",
              "      <th>asin</th>\n",
              "      <th>date</th>\n",
              "      <th>sales_rank</th>\n",
              "      <th>count_new</th>\n",
              "      <th>buy_box_shipping</th>\n",
              "      <th>time_idx</th>\n",
              "      <th>month</th>\n",
              "    </tr>\n",
              "  </thead>\n",
              "  <tbody>\n",
              "    <tr>\n",
              "      <th>284</th>\n",
              "      <td>B0000AA8UL</td>\n",
              "      <td>2020-06-21</td>\n",
              "      <td>5338.000000</td>\n",
              "      <td>7.0</td>\n",
              "      <td>26.30</td>\n",
              "      <td>0</td>\n",
              "      <td>6</td>\n",
              "    </tr>\n",
              "    <tr>\n",
              "      <th>285</th>\n",
              "      <td>B0000AA8UL</td>\n",
              "      <td>2020-06-25</td>\n",
              "      <td>5540.250000</td>\n",
              "      <td>8.5</td>\n",
              "      <td>26.10</td>\n",
              "      <td>0</td>\n",
              "      <td>6</td>\n",
              "    </tr>\n",
              "    <tr>\n",
              "      <th>286</th>\n",
              "      <td>B0000AA8UL</td>\n",
              "      <td>2020-06-26</td>\n",
              "      <td>5309.666667</td>\n",
              "      <td>10.0</td>\n",
              "      <td>26.30</td>\n",
              "      <td>0</td>\n",
              "      <td>6</td>\n",
              "    </tr>\n",
              "    <tr>\n",
              "      <th>287</th>\n",
              "      <td>B0000AA8UL</td>\n",
              "      <td>2020-06-27</td>\n",
              "      <td>5450.000000</td>\n",
              "      <td>9.0</td>\n",
              "      <td>26.10</td>\n",
              "      <td>0</td>\n",
              "      <td>6</td>\n",
              "    </tr>\n",
              "    <tr>\n",
              "      <th>288</th>\n",
              "      <td>B0000AA8UL</td>\n",
              "      <td>2020-07-16</td>\n",
              "      <td>6406.500000</td>\n",
              "      <td>8.5</td>\n",
              "      <td>26.81</td>\n",
              "      <td>1</td>\n",
              "      <td>7</td>\n",
              "    </tr>\n",
              "  </tbody>\n",
              "</table>\n",
              "</div>"
            ],
            "text/plain": [
              "           asin       date   sales_rank  count_new  buy_box_shipping  \\\n",
              "284  B0000AA8UL 2020-06-21  5338.000000        7.0             26.30   \n",
              "285  B0000AA8UL 2020-06-25  5540.250000        8.5             26.10   \n",
              "286  B0000AA8UL 2020-06-26  5309.666667       10.0             26.30   \n",
              "287  B0000AA8UL 2020-06-27  5450.000000        9.0             26.10   \n",
              "288  B0000AA8UL 2020-07-16  6406.500000        8.5             26.81   \n",
              "\n",
              "     time_idx month  \n",
              "284         0     6  \n",
              "285         0     6  \n",
              "286         0     6  \n",
              "287         0     6  \n",
              "288         1     7  "
            ]
          },
          "metadata": {
            "tags": []
          },
          "execution_count": 26
        }
      ]
    },
    {
      "cell_type": "code",
      "metadata": {
        "id": "qo9iuvc9jbFQ",
        "outputId": "1e0ee147-a259-41ff-f8e4-e2a545a6d6d7"
      },
      "source": [
        "df[df['asin']=='B0000AA8UL'].nunique()"
      ],
      "execution_count": null,
      "outputs": [
        {
          "output_type": "execute_result",
          "data": {
            "text/plain": [
              "asin                  1\n",
              "date                133\n",
              "sales_rank          133\n",
              "count_new            31\n",
              "buy_box_shipping     91\n",
              "time_idx             13\n",
              "month                12\n",
              "dtype: int64"
            ]
          },
          "metadata": {
            "tags": []
          },
          "execution_count": 27
        }
      ]
    },
    {
      "cell_type": "markdown",
      "metadata": {
        "id": "Jjn9kr-hjbFQ"
      },
      "source": [
        "#training.from_dataset(training, products4)\n",
        "#training.plot_randomization()\n",
        "#3training.x_to_index()"
      ]
    },
    {
      "cell_type": "markdown",
      "metadata": {
        "id": "dNqT-6T_jbFQ"
      },
      "source": [
        "convert the dataset to a dataloader\n",
        "#dataloader = dataset.to_dataloader(batch_size=4)\n",
        "\n",
        "and load the first batch\n",
        "x, y = next(iter(train_dataloader))\n",
        "print(\"x =\", x)\n",
        "print(\"\\ny =\", y)\n",
        "print(\"\\nsizes of x =\")\n",
        "for key, value in x.items():\n",
        "    print(f\"\\t{key} = {value.size()}\")"
      ]
    },
    {
      "cell_type": "code",
      "metadata": {
        "cell_id": "00024-d175f17d-0c43-4b7a-bfbd-e5c6300e2736",
        "deepnote_cell_type": "code",
        "deepnote_to_be_reexecuted": true,
        "source_hash": "b1b0d443",
        "tags": [],
        "id": "hUI7lWGMjbFR",
        "outputId": "37cc9923-744c-4f85-973f-ed0b3a99ac80"
      },
      "source": [
        "# calculate baseline mean absolute error, i.e. predict next value as the last available value from the history\n",
        "actuals = torch.cat([y for x, (y, weight) in iter(val_dataloader)])\n",
        "baseline_predictions = Baseline().predict(val_dataloader)\n",
        "(actuals - baseline_predictions).abs().mean().item()"
      ],
      "execution_count": null,
      "outputs": [
        {
          "output_type": "execute_result",
          "data": {
            "text/plain": [
              "1.247198224067688"
            ]
          },
          "metadata": {
            "tags": []
          },
          "execution_count": 28
        }
      ]
    },
    {
      "cell_type": "code",
      "metadata": {
        "cell_id": "00025-c0fb6daa-7baa-44e2-be15-97e3408bf4fa",
        "deepnote_cell_type": "code",
        "deepnote_to_be_reexecuted": true,
        "source_hash": "9e1f5b8d",
        "tags": [],
        "id": "xVRER8ETjbFR",
        "outputId": "da236ca4-75bf-4030-c3c5-88e36bf9899c"
      },
      "source": [
        "# configure network and trainer\n",
        "pl.seed_everything(42)\n",
        "trainer = pl.Trainer(\n",
        "    gpus=0,\n",
        "    # clipping gradients is a hyperparameter and important to prevent divergance\n",
        "    # of the gradient for recurrent neural networks\n",
        "    gradient_clip_val=0.1,\n",
        ")\n",
        "\n",
        "\n",
        "tft = TemporalFusionTransformer.from_dataset(\n",
        "    training,\n",
        "    # not meaningful for finding the learning rate but otherwise very important\n",
        "    learning_rate=0.03,\n",
        "    hidden_size=16,  # most important hyperparameter apart from learning rate\n",
        "    # number of attention heads. Set to up to 4 for large datasets\n",
        "    attention_head_size=1,\n",
        "    dropout=0.1,  # between 0.1 and 0.3 are good values\n",
        "    hidden_continuous_size=8,  # set to <= hidden_size\n",
        "    output_size=7,  # 7 quantiles by default\n",
        "    loss=QuantileLoss(),\n",
        "    log_interval=0,\n",
        "    # reduce learning rate if no improvement in validation loss after x epochs\n",
        "    reduce_on_plateau_patience=4,\n",
        ")\n",
        "print(f\"Number of parameters in network: {tft.size()/1e3:.1f}k\")"
      ],
      "execution_count": null,
      "outputs": [
        {
          "output_type": "stream",
          "text": [
            "Global seed set to 42\n",
            "GPU available: True, used: False\n",
            "TPU available: False, using: 0 TPU cores\n"
          ],
          "name": "stderr"
        },
        {
          "output_type": "stream",
          "text": [
            "Number of parameters in network: 65.7k\n"
          ],
          "name": "stdout"
        }
      ]
    },
    {
      "cell_type": "code",
      "metadata": {
        "id": "X33vie9MjbFR",
        "outputId": "7a967e83-f6c1-4dd3-9edd-ba4299ecc03a"
      },
      "source": [
        "tft.size()"
      ],
      "execution_count": null,
      "outputs": [
        {
          "output_type": "execute_result",
          "data": {
            "text/plain": [
              "65737"
            ]
          },
          "metadata": {
            "tags": []
          },
          "execution_count": 30
        }
      ]
    },
    {
      "cell_type": "code",
      "metadata": {
        "cell_id": "00026-89c5c9a6-bf1c-47e5-9c23-7abd0a4833b9",
        "deepnote_cell_type": "code",
        "deepnote_to_be_reexecuted": true,
        "scrolled": true,
        "source_hash": "ef7ad949",
        "tags": [],
        "id": "moU3a52DjbFS",
        "outputId": "6853e04a-89c7-4721-cba8-9fba1ce0e960",
        "colab": {
          "referenced_widgets": [
            "562f00bc0c234487a679785671a4e5ca"
          ]
        }
      },
      "source": [
        "# find optimal learning rate\n",
        "res = trainer.tuner.lr_find(\n",
        "    tft,\n",
        "    train_dataloader=train_dataloader,\n",
        "    val_dataloaders=val_dataloader,\n",
        "    max_lr=10.0,\n",
        "    min_lr=1e-6,\n",
        ")\n",
        "\n",
        "print(f\"suggested learning rate: {res.suggestion()}\")\n",
        "fig = res.plot(show=True, suggest=True)\n",
        "fig.show()"
      ],
      "execution_count": null,
      "outputs": [
        {
          "output_type": "stream",
          "text": [
            "\n",
            "   | Name                               | Type                            | Params\n",
            "----------------------------------------------------------------------------------------\n",
            "0  | loss                               | QuantileLoss                    | 0     \n",
            "1  | logging_metrics                    | ModuleList                      | 0     \n",
            "2  | input_embeddings                   | MultiEmbedding                  | 43.9 K\n",
            "3  | prescalers                         | ModuleDict                      | 128   \n",
            "4  | static_variable_selection          | VariableSelectionNetwork        | 1.9 K \n",
            "5  | encoder_variable_selection         | VariableSelectionNetwork        | 3.2 K \n",
            "6  | decoder_variable_selection         | VariableSelectionNetwork        | 2.6 K \n",
            "7  | static_context_variable_selection  | GatedResidualNetwork            | 1.1 K \n",
            "8  | static_context_initial_hidden_lstm | GatedResidualNetwork            | 1.1 K \n",
            "9  | static_context_initial_cell_lstm   | GatedResidualNetwork            | 1.1 K \n",
            "10 | static_context_enrichment          | GatedResidualNetwork            | 1.1 K \n",
            "11 | lstm_encoder                       | LSTM                            | 2.2 K \n",
            "12 | lstm_decoder                       | LSTM                            | 2.2 K \n",
            "13 | post_lstm_gate_encoder             | GatedLinearUnit                 | 544   \n",
            "14 | post_lstm_add_norm_encoder         | AddNorm                         | 32    \n",
            "15 | static_enrichment                  | GatedResidualNetwork            | 1.4 K \n",
            "16 | multihead_attn                     | InterpretableMultiHeadAttention | 1.1 K \n",
            "17 | post_attn_gate_norm                | GateAddNorm                     | 576   \n",
            "18 | pos_wise_ff                        | GatedResidualNetwork            | 1.1 K \n",
            "19 | pre_output_gate_norm               | GateAddNorm                     | 576   \n",
            "20 | output_layer                       | Linear                          | 119   \n",
            "----------------------------------------------------------------------------------------\n",
            "65.7 K    Trainable params\n",
            "0         Non-trainable params\n",
            "65.7 K    Total params\n",
            "0.263     Total estimated model params size (MB)\n",
            "Global seed set to 42\n"
          ],
          "name": "stderr"
        },
        {
          "output_type": "display_data",
          "data": {
            "application/vnd.jupyter.widget-view+json": {
              "model_id": "562f00bc0c234487a679785671a4e5ca",
              "version_major": 2,
              "version_minor": 0
            },
            "text/plain": [
              "HBox(children=(HTML(value='Finding best initial lr'), FloatProgress(value=0.0), HTML(value='')))"
            ]
          },
          "metadata": {
            "tags": []
          }
        },
        {
          "output_type": "stream",
          "text": [
            "Restored states from the checkpoint file at C:\\Users\\chaya\\Documents\\incube88\\incube_prediction\\lr_find_temp_model.ckpt\n"
          ],
          "name": "stderr"
        },
        {
          "output_type": "stream",
          "text": [
            "suggested learning rate: 9.549925860214362e-06\n"
          ],
          "name": "stdout"
        },
        {
          "output_type": "display_data",
          "data": {
            "image/png": "[encoded data removed]",
            "text/plain": [
              "<Figure size 432x288 with 1 Axes>"
            ]
          },
          "metadata": {
            "tags": [],
            "needs_background": "light"
          }
        }
      ]
    },
    {
      "cell_type": "code",
      "metadata": {
        "id": "T_fZLEL0jbFS",
        "outputId": "534bc242-1ca7-4044-f0ae-94fb9c902fc2"
      },
      "source": [
        "# configure network and trainer\n",
        "early_stop_callback = EarlyStopping(monitor=\"val_loss\", min_delta=1e-4, patience=10, verbose=False, mode=\"min\")\n",
        "lr_logger = LearningRateMonitor()  # log the learning rate\n",
        "logger = TensorBoardLogger(\"lightning_logs\")  # logging results to a tensorboard\n",
        "\n",
        "trainer = pl.Trainer(\n",
        "    max_epochs=30,\n",
        "    gpus=1,\n",
        "    weights_summary=\"top\", #can change to \"full\"\n",
        "    gradient_clip_val=0.1,\n",
        "    #limit_train_batches=30,  # coment in for training, running valiation every 30 batches\n",
        "    # fast_dev_run=True,  # comment in to check that networkor dataset has no serious bugs\n",
        "    callbacks=[lr_logger, early_stop_callback],\n",
        "    logger=logger,\n",
        ")\n",
        "\n",
        "\n",
        "tft = TemporalFusionTransformer.from_dataset(\n",
        "    training,\n",
        "    learning_rate=0.03,#suggested learning rate: 0.10964781961431845 but did not enter because on the tutorial, suggested learning rate: 0.06 but left .03 because For the TemporalFusionTransformer, the optimal learning rate seems to be slightly lower than the suggested one and sometimes noise causes it to suggest too low ones.\n",
        "    hidden_size=16,\n",
        "    attention_head_size=1,\n",
        "    dropout=0.1,\n",
        "    hidden_continuous_size=8,\n",
        "    #output_size=4,  # 7 quantiles by default\n",
        "    loss=QuantileLoss(),\n",
        "    #log_interval=10,  # uncomment for learning rate finder and otherwise, e.g. to 10 for logging every 10 batches\n",
        "    reduce_on_plateau_patience=4,\n",
        "    log_interval=0 #added because of histogram error \"hacky solution\" github issue 376\n",
        ")\n",
        "print(f\"Number of parameters in network: {tft.size()/1e3:.1f}k\")"
      ],
      "execution_count": null,
      "outputs": [
        {
          "output_type": "stream",
          "text": [
            "GPU available: True, used: True\n",
            "TPU available: False, using: 0 TPU cores\n"
          ],
          "name": "stderr"
        },
        {
          "output_type": "stream",
          "text": [
            "Number of parameters in network: 65.7k\n"
          ],
          "name": "stdout"
        }
      ]
    },
    {
      "cell_type": "code",
      "metadata": {
        "scrolled": false,
        "id": "Ca46DcnljbFS",
        "outputId": "15f21eda-7d21-49d8-a22b-96d3846927b9",
        "colab": {
          "referenced_widgets": [
            "",
            "acb3b291eaa648dfba150329532bf797"
          ]
        }
      },
      "source": [
        "# fit network\n",
        "trainer.fit(\n",
        "    tft,\n",
        "    train_dataloader=train_dataloader,\n",
        "    val_dataloaders=val_dataloader,\n",
        ")\n",
        "    "
      ],
      "execution_count": null,
      "outputs": [
        {
          "output_type": "stream",
          "text": [
            "LOCAL_RANK: 0 - CUDA_VISIBLE_DEVICES: [0]\n"
          ],
          "name": "stderr"
        },
        {
          "output_type": "stream",
          "text": [
            "\n"
          ],
          "name": "stdout"
        },
        {
          "output_type": "stream",
          "text": [
            "\n",
            "   | Name                               | Type                            | Params\n",
            "----------------------------------------------------------------------------------------\n",
            "0  | loss                               | QuantileLoss                    | 0     \n",
            "1  | logging_metrics                    | ModuleList                      | 0     \n",
            "2  | input_embeddings                   | MultiEmbedding                  | 43.9 K\n",
            "3  | prescalers                         | ModuleDict                      | 128   \n",
            "4  | static_variable_selection          | VariableSelectionNetwork        | 1.9 K \n",
            "5  | encoder_variable_selection         | VariableSelectionNetwork        | 3.2 K \n",
            "6  | decoder_variable_selection         | VariableSelectionNetwork        | 2.6 K \n",
            "7  | static_context_variable_selection  | GatedResidualNetwork            | 1.1 K \n",
            "8  | static_context_initial_hidden_lstm | GatedResidualNetwork            | 1.1 K \n",
            "9  | static_context_initial_cell_lstm   | GatedResidualNetwork            | 1.1 K \n",
            "10 | static_context_enrichment          | GatedResidualNetwork            | 1.1 K \n",
            "11 | lstm_encoder                       | LSTM                            | 2.2 K \n",
            "12 | lstm_decoder                       | LSTM                            | 2.2 K \n",
            "13 | post_lstm_gate_encoder             | GatedLinearUnit                 | 544   \n",
            "14 | post_lstm_add_norm_encoder         | AddNorm                         | 32    \n",
            "15 | static_enrichment                  | GatedResidualNetwork            | 1.4 K \n",
            "16 | multihead_attn                     | InterpretableMultiHeadAttention | 1.1 K \n",
            "17 | post_attn_gate_norm                | GateAddNorm                     | 576   \n",
            "18 | pos_wise_ff                        | GatedResidualNetwork            | 1.1 K \n",
            "19 | pre_output_gate_norm               | GateAddNorm                     | 576   \n",
            "20 | output_layer                       | Linear                          | 119   \n",
            "----------------------------------------------------------------------------------------\n",
            "65.7 K    Trainable params\n",
            "0         Non-trainable params\n",
            "65.7 K    Total params\n",
            "0.263     Total estimated model params size (MB)\n"
          ],
          "name": "stderr"
        },
        {
          "output_type": "display_data",
          "data": {
            "application/vnd.jupyter.widget-view+json": {
              "model_id": "",
              "version_major": 2,
              "version_minor": 0
            },
            "text/plain": [
              "HBox(children=(HTML(value='Validation sanity check'), FloatProgress(value=1.0, bar_style='info', layout=Layout…"
            ]
          },
          "metadata": {
            "tags": []
          }
        },
        {
          "output_type": "stream",
          "text": [
            "Global seed set to 42\n"
          ],
          "name": "stderr"
        },
        {
          "output_type": "display_data",
          "data": {
            "application/vnd.jupyter.widget-view+json": {
              "model_id": "acb3b291eaa648dfba150329532bf797",
              "version_major": 2,
              "version_minor": 0
            },
            "text/plain": [
              "HBox(children=(HTML(value='Training'), FloatProgress(value=1.0, bar_style='info', layout=Layout(flex='2'), max…"
            ]
          },
          "metadata": {
            "tags": []
          }
        },
        {
          "output_type": "display_data",
          "data": {
            "application/vnd.jupyter.widget-view+json": {
              "model_id": "",
              "version_major": 2,
              "version_minor": 0
            },
            "text/plain": [
              "HBox(children=(HTML(value='Validating'), FloatProgress(value=1.0, bar_style='info', layout=Layout(flex='2'), m…"
            ]
          },
          "metadata": {
            "tags": []
          }
        },
        {
          "output_type": "display_data",
          "data": {
            "application/vnd.jupyter.widget-view+json": {
              "model_id": "",
              "version_major": 2,
              "version_minor": 0
            },
            "text/plain": [
              "HBox(children=(HTML(value='Validating'), FloatProgress(value=1.0, bar_style='info', layout=Layout(flex='2'), m…"
            ]
          },
          "metadata": {
            "tags": []
          }
        },
        {
          "output_type": "display_data",
          "data": {
            "application/vnd.jupyter.widget-view+json": {
              "model_id": "",
              "version_major": 2,
              "version_minor": 0
            },
            "text/plain": [
              "HBox(children=(HTML(value='Validating'), FloatProgress(value=1.0, bar_style='info', layout=Layout(flex='2'), m…"
            ]
          },
          "metadata": {
            "tags": []
          }
        },
        {
          "output_type": "display_data",
          "data": {
            "application/vnd.jupyter.widget-view+json": {
              "model_id": "",
              "version_major": 2,
              "version_minor": 0
            },
            "text/plain": [
              "HBox(children=(HTML(value='Validating'), FloatProgress(value=1.0, bar_style='info', layout=Layout(flex='2'), m…"
            ]
          },
          "metadata": {
            "tags": []
          }
        },
        {
          "output_type": "display_data",
          "data": {
            "application/vnd.jupyter.widget-view+json": {
              "model_id": "",
              "version_major": 2,
              "version_minor": 0
            },
            "text/plain": [
              "HBox(children=(HTML(value='Validating'), FloatProgress(value=1.0, bar_style='info', layout=Layout(flex='2'), m…"
            ]
          },
          "metadata": {
            "tags": []
          }
        },
        {
          "output_type": "display_data",
          "data": {
            "application/vnd.jupyter.widget-view+json": {
              "model_id": "",
              "version_major": 2,
              "version_minor": 0
            },
            "text/plain": [
              "HBox(children=(HTML(value='Validating'), FloatProgress(value=1.0, bar_style='info', layout=Layout(flex='2'), m…"
            ]
          },
          "metadata": {
            "tags": []
          }
        },
        {
          "output_type": "display_data",
          "data": {
            "application/vnd.jupyter.widget-view+json": {
              "model_id": "",
              "version_major": 2,
              "version_minor": 0
            },
            "text/plain": [
              "HBox(children=(HTML(value='Validating'), FloatProgress(value=1.0, bar_style='info', layout=Layout(flex='2'), m…"
            ]
          },
          "metadata": {
            "tags": []
          }
        },
        {
          "output_type": "display_data",
          "data": {
            "application/vnd.jupyter.widget-view+json": {
              "model_id": "",
              "version_major": 2,
              "version_minor": 0
            },
            "text/plain": [
              "HBox(children=(HTML(value='Validating'), FloatProgress(value=1.0, bar_style='info', layout=Layout(flex='2'), m…"
            ]
          },
          "metadata": {
            "tags": []
          }
        },
        {
          "output_type": "display_data",
          "data": {
            "application/vnd.jupyter.widget-view+json": {
              "model_id": "",
              "version_major": 2,
              "version_minor": 0
            },
            "text/plain": [
              "HBox(children=(HTML(value='Validating'), FloatProgress(value=1.0, bar_style='info', layout=Layout(flex='2'), m…"
            ]
          },
          "metadata": {
            "tags": []
          }
        },
        {
          "output_type": "display_data",
          "data": {
            "application/vnd.jupyter.widget-view+json": {
              "model_id": "",
              "version_major": 2,
              "version_minor": 0
            },
            "text/plain": [
              "HBox(children=(HTML(value='Validating'), FloatProgress(value=1.0, bar_style='info', layout=Layout(flex='2'), m…"
            ]
          },
          "metadata": {
            "tags": []
          }
        },
        {
          "output_type": "display_data",
          "data": {
            "application/vnd.jupyter.widget-view+json": {
              "model_id": "",
              "version_major": 2,
              "version_minor": 0
            },
            "text/plain": [
              "HBox(children=(HTML(value='Validating'), FloatProgress(value=1.0, bar_style='info', layout=Layout(flex='2'), m…"
            ]
          },
          "metadata": {
            "tags": []
          }
        },
        {
          "output_type": "display_data",
          "data": {
            "application/vnd.jupyter.widget-view+json": {
              "model_id": "",
              "version_major": 2,
              "version_minor": 0
            },
            "text/plain": [
              "HBox(children=(HTML(value='Validating'), FloatProgress(value=1.0, bar_style='info', layout=Layout(flex='2'), m…"
            ]
          },
          "metadata": {
            "tags": []
          }
        },
        {
          "output_type": "display_data",
          "data": {
            "application/vnd.jupyter.widget-view+json": {
              "model_id": "",
              "version_major": 2,
              "version_minor": 0
            },
            "text/plain": [
              "HBox(children=(HTML(value='Validating'), FloatProgress(value=1.0, bar_style='info', layout=Layout(flex='2'), m…"
            ]
          },
          "metadata": {
            "tags": []
          }
        },
        {
          "output_type": "display_data",
          "data": {
            "application/vnd.jupyter.widget-view+json": {
              "model_id": "",
              "version_major": 2,
              "version_minor": 0
            },
            "text/plain": [
              "HBox(children=(HTML(value='Validating'), FloatProgress(value=1.0, bar_style='info', layout=Layout(flex='2'), m…"
            ]
          },
          "metadata": {
            "tags": []
          }
        },
        {
          "output_type": "display_data",
          "data": {
            "application/vnd.jupyter.widget-view+json": {
              "model_id": "",
              "version_major": 2,
              "version_minor": 0
            },
            "text/plain": [
              "HBox(children=(HTML(value='Validating'), FloatProgress(value=1.0, bar_style='info', layout=Layout(flex='2'), m…"
            ]
          },
          "metadata": {
            "tags": []
          }
        },
        {
          "output_type": "display_data",
          "data": {
            "application/vnd.jupyter.widget-view+json": {
              "model_id": "",
              "version_major": 2,
              "version_minor": 0
            },
            "text/plain": [
              "HBox(children=(HTML(value='Validating'), FloatProgress(value=1.0, bar_style='info', layout=Layout(flex='2'), m…"
            ]
          },
          "metadata": {
            "tags": []
          }
        },
        {
          "output_type": "display_data",
          "data": {
            "application/vnd.jupyter.widget-view+json": {
              "model_id": "",
              "version_major": 2,
              "version_minor": 0
            },
            "text/plain": [
              "HBox(children=(HTML(value='Validating'), FloatProgress(value=1.0, bar_style='info', layout=Layout(flex='2'), m…"
            ]
          },
          "metadata": {
            "tags": []
          }
        },
        {
          "output_type": "stream",
          "text": [
            "\n"
          ],
          "name": "stdout"
        }
      ]
    },
    {
      "cell_type": "code",
      "metadata": {
        "id": "WGtWV_dTjbFT",
        "outputId": "c1abfd05-9012-4b06-be48-ab8b38864f62"
      },
      "source": [
        "###LONG RUNNING CELL - BEWARE!!\n",
        "import pickle\n",
        "\n",
        "from pytorch_forecasting.models.temporal_fusion_transformer.tuning import optimize_hyperparameters\n",
        "\n",
        "# create study\n",
        "study = optimize_hyperparameters(\n",
        "    train_dataloader,\n",
        "    val_dataloader,\n",
        "    model_path=\"optuna_test\",\n",
        "    n_trials=200,\n",
        "    #n_trials = 10 # after 22 trials, the first was the best, and a lot were pruned, so I stopped the cell - the first took 15 minutes, the pruned two minutes\n",
        "    max_epochs=50,\n",
        "    gradient_clip_val_range=(0.01, 1.0),\n",
        "    hidden_size_range=(8, 128),\n",
        "    hidden_continuous_size_range=(8, 128),\n",
        "    attention_head_size_range=(1, 4),\n",
        "    learning_rate_range=(0.001, 0.1),\n",
        "    dropout_range=(0.1, 0.3),\n",
        "    trainer_kwargs=dict(limit_train_batches=30),\n",
        "    reduce_on_plateau_patience=4,\n",
        "    use_learning_rate_finder=False,\n",
        "    # use Optuna to find ideal learning rate or use in-built learning rate finder\n",
        ")\n",
        "\n"
      ],
      "execution_count": null,
      "outputs": [
        {
          "output_type": "stream",
          "text": [
            "\u001b[32m[I 2021-06-21 09:40:48,699]\u001b[0m A new study created in memory with name: no-name-2e858fda-3958-4c3e-b4c7-835e0baa6532\u001b[0m\n",
            "GPU available: True, used: True\n",
            "TPU available: False, using: 0 TPU cores\n",
            "LOCAL_RANK: 0 - CUDA_VISIBLE_DEVICES: [0]\n",
            "Global seed set to 42\n",
            "\u001b[32m[I 2021-06-21 09:51:42,958]\u001b[0m Trial 0 finished with value: 2.5382626056671143 and parameters: {'gradient_clip_val': 0.04565126507368562, 'hidden_size': 13, 'dropout': 0.11846221789787781, 'hidden_continuous_size': 9, 'attention_head_size': 3, 'learning_rate': 0.0023719645503948636}. Best is trial 0 with value: 2.5382626056671143.\u001b[0m\n",
            "GPU available: True, used: True\n",
            "TPU available: False, using: 0 TPU cores\n",
            "LOCAL_RANK: 0 - CUDA_VISIBLE_DEVICES: [0]\n",
            "Global seed set to 42\n",
            "\u001b[32m[I 2021-06-21 09:59:49,890]\u001b[0m Trial 1 finished with value: 0.8815973401069641 and parameters: {'gradient_clip_val': 0.047608874838619676, 'hidden_size': 9, 'dropout': 0.11270253515891676, 'hidden_continuous_size': 9, 'attention_head_size': 1, 'learning_rate': 0.03590564003310757}. Best is trial 1 with value: 0.8815973401069641.\u001b[0m\n",
            "GPU available: True, used: True\n",
            "TPU available: False, using: 0 TPU cores\n",
            "LOCAL_RANK: 0 - CUDA_VISIBLE_DEVICES: [0]\n",
            "\u001b[33m[W 2021-06-21 09:59:53,872]\u001b[0m Trial 2 failed because of the following error: RuntimeError('CUDA out of memory. Tried to allocate 228.00 MiB (GPU 0; 6.00 GiB total capacity; 1.39 GiB already allocated; 94.90 MiB free; 2.00 GiB reserved in total by PyTorch)')\n",
            "Traceback (most recent call last):\n",
            "  File \"C:\\Users\\chaya\\anaconda3\\lib\\site-packages\\optuna\\_optimize.py\", line 217, in _run_trial\n",
            "    value_or_values = func(trial)\n",
            "  File \"C:\\Users\\chaya\\anaconda3\\lib\\site-packages\\pytorch_forecasting\\models\\temporal_fusion_transformer\\tuning.py\", line 206, in objective\n",
            "    trainer.fit(model, train_dataloader=train_dataloader, val_dataloaders=val_dataloader)\n",
            "  File \"C:\\Users\\chaya\\anaconda3\\lib\\site-packages\\pytorch_lightning\\trainer\\trainer.py\", line 458, in fit\n",
            "    self._run(model)\n",
            "  File \"C:\\Users\\chaya\\anaconda3\\lib\\site-packages\\pytorch_lightning\\trainer\\trainer.py\", line 756, in _run\n",
            "    self.dispatch()\n",
            "  File \"C:\\Users\\chaya\\anaconda3\\lib\\site-packages\\pytorch_lightning\\trainer\\trainer.py\", line 797, in dispatch\n",
            "    self.accelerator.start_training(self)\n",
            "  File \"C:\\Users\\chaya\\anaconda3\\lib\\site-packages\\pytorch_lightning\\accelerators\\accelerator.py\", line 96, in start_training\n",
            "    self.training_type_plugin.start_training(trainer)\n",
            "  File \"C:\\Users\\chaya\\anaconda3\\lib\\site-packages\\pytorch_lightning\\plugins\\training_type\\training_type_plugin.py\", line 144, in start_training\n",
            "    self._results = trainer.run_stage()\n",
            "  File \"C:\\Users\\chaya\\anaconda3\\lib\\site-packages\\pytorch_lightning\\trainer\\trainer.py\", line 807, in run_stage\n",
            "    return self.run_train()\n",
            "  File \"C:\\Users\\chaya\\anaconda3\\lib\\site-packages\\pytorch_lightning\\trainer\\trainer.py\", line 842, in run_train\n",
            "    self.run_sanity_check(self.lightning_module)\n",
            "  File \"C:\\Users\\chaya\\anaconda3\\lib\\site-packages\\pytorch_lightning\\trainer\\trainer.py\", line 1107, in run_sanity_check\n",
            "    self.run_evaluation()\n",
            "  File \"C:\\Users\\chaya\\anaconda3\\lib\\site-packages\\pytorch_lightning\\trainer\\trainer.py\", line 962, in run_evaluation\n",
            "    output = self.evaluation_loop.evaluation_step(batch, batch_idx, dataloader_idx)\n",
            "  File \"C:\\Users\\chaya\\anaconda3\\lib\\site-packages\\pytorch_lightning\\trainer\\evaluation_loop.py\", line 174, in evaluation_step\n",
            "    output = self.trainer.accelerator.validation_step(args)\n",
            "  File \"C:\\Users\\chaya\\anaconda3\\lib\\site-packages\\pytorch_lightning\\accelerators\\accelerator.py\", line 226, in validation_step\n",
            "    return self.training_type_plugin.validation_step(*args)\n",
            "  File \"C:\\Users\\chaya\\anaconda3\\lib\\site-packages\\pytorch_lightning\\plugins\\training_type\\training_type_plugin.py\", line 161, in validation_step\n",
            "    return self.lightning_module.validation_step(*args, **kwargs)\n",
            "  File \"C:\\Users\\chaya\\anaconda3\\lib\\site-packages\\pytorch_forecasting\\models\\base_model.py\", line 355, in validation_step\n",
            "    log, _ = self.step(x, y, batch_idx)  # log loss\n",
            "  File \"C:\\Users\\chaya\\anaconda3\\lib\\site-packages\\pytorch_forecasting\\models\\temporal_fusion_transformer\\__init__.py\", line 523, in step\n",
            "    log, out = super().step(x, y, batch_idx)\n",
            "  File \"C:\\Users\\chaya\\anaconda3\\lib\\site-packages\\pytorch_forecasting\\models\\base_model.py\", line 445, in step\n",
            "    out = self(x, **kwargs)\n",
            "  File \"C:\\Users\\chaya\\anaconda3\\lib\\site-packages\\torch\\nn\\modules\\module.py\", line 1051, in _call_impl\n",
            "    return forward_call(*input, **kwargs)\n",
            "  File \"C:\\Users\\chaya\\anaconda3\\lib\\site-packages\\pytorch_forecasting\\models\\temporal_fusion_transformer\\__init__.py\", line 430, in forward\n",
            "    embeddings_varying_encoder, encoder_sparse_weights = self.encoder_variable_selection(\n",
            "  File \"C:\\Users\\chaya\\anaconda3\\lib\\site-packages\\torch\\nn\\modules\\module.py\", line 1051, in _call_impl\n",
            "    return forward_call(*input, **kwargs)\n",
            "  File \"C:\\Users\\chaya\\anaconda3\\lib\\site-packages\\pytorch_forecasting\\models\\temporal_fusion_transformer\\sub_modules.py\", line 331, in forward\n",
            "    var_outputs = torch.stack(var_outputs, dim=-1)\n",
            "RuntimeError: CUDA out of memory. Tried to allocate 228.00 MiB (GPU 0; 6.00 GiB total capacity; 1.39 GiB already allocated; 94.90 MiB free; 2.00 GiB reserved in total by PyTorch)\u001b[0m\n"
          ],
          "name": "stderr"
        },
        {
          "output_type": "error",
          "ename": "RuntimeError",
          "evalue": "CUDA out of memory. Tried to allocate 228.00 MiB (GPU 0; 6.00 GiB total capacity; 1.39 GiB already allocated; 94.90 MiB free; 2.00 GiB reserved in total by PyTorch)",
          "traceback": [
            "\u001b[1;31m---------------------------------------------------------------------------\u001b[0m",
            "\u001b[1;31mRuntimeError\u001b[0m                              Traceback (most recent call last)",
            "\u001b[1;32m<ipython-input-35-4d7f640114fc>\u001b[0m in \u001b[0;36m<module>\u001b[1;34m\u001b[0m\n\u001b[0;32m      5\u001b[0m \u001b[1;33m\u001b[0m\u001b[0m\n\u001b[0;32m      6\u001b[0m \u001b[1;31m# create study\u001b[0m\u001b[1;33m\u001b[0m\u001b[1;33m\u001b[0m\u001b[1;33m\u001b[0m\u001b[0m\n\u001b[1;32m----> 7\u001b[1;33m study = optimize_hyperparameters(\n\u001b[0m\u001b[0;32m      8\u001b[0m     \u001b[0mtrain_dataloader\u001b[0m\u001b[1;33m,\u001b[0m\u001b[1;33m\u001b[0m\u001b[1;33m\u001b[0m\u001b[0m\n\u001b[0;32m      9\u001b[0m     \u001b[0mval_dataloader\u001b[0m\u001b[1;33m,\u001b[0m\u001b[1;33m\u001b[0m\u001b[1;33m\u001b[0m\u001b[0m\n",
            "\u001b[1;32m~\\anaconda3\\lib\\site-packages\\pytorch_forecasting\\models\\temporal_fusion_transformer\\tuning.py\u001b[0m in \u001b[0;36moptimize_hyperparameters\u001b[1;34m(train_dataloader, val_dataloader, model_path, max_epochs, n_trials, timeout, gradient_clip_val_range, hidden_size_range, hidden_continuous_size_range, attention_head_size_range, dropout_range, learning_rate_range, use_learning_rate_finder, trainer_kwargs, log_dir, study, verbose, **kwargs)\u001b[0m\n\u001b[0;32m    213\u001b[0m     \u001b[1;32mif\u001b[0m \u001b[0mstudy\u001b[0m \u001b[1;32mis\u001b[0m \u001b[1;32mNone\u001b[0m\u001b[1;33m:\u001b[0m\u001b[1;33m\u001b[0m\u001b[1;33m\u001b[0m\u001b[0m\n\u001b[0;32m    214\u001b[0m         \u001b[0mstudy\u001b[0m \u001b[1;33m=\u001b[0m \u001b[0moptuna\u001b[0m\u001b[1;33m.\u001b[0m\u001b[0mcreate_study\u001b[0m\u001b[1;33m(\u001b[0m\u001b[0mdirection\u001b[0m\u001b[1;33m=\u001b[0m\u001b[1;34m\"minimize\"\u001b[0m\u001b[1;33m,\u001b[0m \u001b[0mpruner\u001b[0m\u001b[1;33m=\u001b[0m\u001b[0mpruner\u001b[0m\u001b[1;33m)\u001b[0m\u001b[1;33m\u001b[0m\u001b[1;33m\u001b[0m\u001b[0m\n\u001b[1;32m--> 215\u001b[1;33m     \u001b[0mstudy\u001b[0m\u001b[1;33m.\u001b[0m\u001b[0moptimize\u001b[0m\u001b[1;33m(\u001b[0m\u001b[0mobjective\u001b[0m\u001b[1;33m,\u001b[0m \u001b[0mn_trials\u001b[0m\u001b[1;33m=\u001b[0m\u001b[0mn_trials\u001b[0m\u001b[1;33m,\u001b[0m \u001b[0mtimeout\u001b[0m\u001b[1;33m=\u001b[0m\u001b[0mtimeout\u001b[0m\u001b[1;33m)\u001b[0m\u001b[1;33m\u001b[0m\u001b[1;33m\u001b[0m\u001b[0m\n\u001b[0m\u001b[0;32m    216\u001b[0m     \u001b[1;32mreturn\u001b[0m \u001b[0mstudy\u001b[0m\u001b[1;33m\u001b[0m\u001b[1;33m\u001b[0m\u001b[0m\n",
            "\u001b[1;32m~\\anaconda3\\lib\\site-packages\\optuna\\study.py\u001b[0m in \u001b[0;36moptimize\u001b[1;34m(self, func, n_trials, timeout, n_jobs, catch, callbacks, gc_after_trial, show_progress_bar)\u001b[0m\n\u001b[0;32m    398\u001b[0m             )\n\u001b[0;32m    399\u001b[0m \u001b[1;33m\u001b[0m\u001b[0m\n\u001b[1;32m--> 400\u001b[1;33m         _optimize(\n\u001b[0m\u001b[0;32m    401\u001b[0m             \u001b[0mstudy\u001b[0m\u001b[1;33m=\u001b[0m\u001b[0mself\u001b[0m\u001b[1;33m,\u001b[0m\u001b[1;33m\u001b[0m\u001b[1;33m\u001b[0m\u001b[0m\n\u001b[0;32m    402\u001b[0m             \u001b[0mfunc\u001b[0m\u001b[1;33m=\u001b[0m\u001b[0mfunc\u001b[0m\u001b[1;33m,\u001b[0m\u001b[1;33m\u001b[0m\u001b[1;33m\u001b[0m\u001b[0m\n",
            "\u001b[1;32m~\\anaconda3\\lib\\site-packages\\optuna\\_optimize.py\u001b[0m in \u001b[0;36m_optimize\u001b[1;34m(study, func, n_trials, timeout, n_jobs, catch, callbacks, gc_after_trial, show_progress_bar)\u001b[0m\n\u001b[0;32m     64\u001b[0m     \u001b[1;32mtry\u001b[0m\u001b[1;33m:\u001b[0m\u001b[1;33m\u001b[0m\u001b[1;33m\u001b[0m\u001b[0m\n\u001b[0;32m     65\u001b[0m         \u001b[1;32mif\u001b[0m \u001b[0mn_jobs\u001b[0m \u001b[1;33m==\u001b[0m \u001b[1;36m1\u001b[0m\u001b[1;33m:\u001b[0m\u001b[1;33m\u001b[0m\u001b[1;33m\u001b[0m\u001b[0m\n\u001b[1;32m---> 66\u001b[1;33m             _optimize_sequential(\n\u001b[0m\u001b[0;32m     67\u001b[0m                 \u001b[0mstudy\u001b[0m\u001b[1;33m,\u001b[0m\u001b[1;33m\u001b[0m\u001b[1;33m\u001b[0m\u001b[0m\n\u001b[0;32m     68\u001b[0m                 \u001b[0mfunc\u001b[0m\u001b[1;33m,\u001b[0m\u001b[1;33m\u001b[0m\u001b[1;33m\u001b[0m\u001b[0m\n",
            "\u001b[1;32m~\\anaconda3\\lib\\site-packages\\optuna\\_optimize.py\u001b[0m in \u001b[0;36m_optimize_sequential\u001b[1;34m(study, func, n_trials, timeout, catch, callbacks, gc_after_trial, reseed_sampler_rng, time_start, progress_bar)\u001b[0m\n\u001b[0;32m    161\u001b[0m \u001b[1;33m\u001b[0m\u001b[0m\n\u001b[0;32m    162\u001b[0m         \u001b[1;32mtry\u001b[0m\u001b[1;33m:\u001b[0m\u001b[1;33m\u001b[0m\u001b[1;33m\u001b[0m\u001b[0m\n\u001b[1;32m--> 163\u001b[1;33m             \u001b[0mtrial\u001b[0m \u001b[1;33m=\u001b[0m \u001b[0m_run_trial\u001b[0m\u001b[1;33m(\u001b[0m\u001b[0mstudy\u001b[0m\u001b[1;33m,\u001b[0m \u001b[0mfunc\u001b[0m\u001b[1;33m,\u001b[0m \u001b[0mcatch\u001b[0m\u001b[1;33m)\u001b[0m\u001b[1;33m\u001b[0m\u001b[1;33m\u001b[0m\u001b[0m\n\u001b[0m\u001b[0;32m    164\u001b[0m         \u001b[1;32mexcept\u001b[0m \u001b[0mException\u001b[0m\u001b[1;33m:\u001b[0m\u001b[1;33m\u001b[0m\u001b[1;33m\u001b[0m\u001b[0m\n\u001b[0;32m    165\u001b[0m             \u001b[1;32mraise\u001b[0m\u001b[1;33m\u001b[0m\u001b[1;33m\u001b[0m\u001b[0m\n",
            "\u001b[1;32m~\\anaconda3\\lib\\site-packages\\optuna\\_optimize.py\u001b[0m in \u001b[0;36m_run_trial\u001b[1;34m(study, func, catch)\u001b[0m\n\u001b[0;32m    266\u001b[0m \u001b[1;33m\u001b[0m\u001b[0m\n\u001b[0;32m    267\u001b[0m     \u001b[1;32mif\u001b[0m \u001b[0mstate\u001b[0m \u001b[1;33m==\u001b[0m \u001b[0mTrialState\u001b[0m\u001b[1;33m.\u001b[0m\u001b[0mFAIL\u001b[0m \u001b[1;32mand\u001b[0m \u001b[0mfunc_err\u001b[0m \u001b[1;32mis\u001b[0m \u001b[1;32mnot\u001b[0m \u001b[1;32mNone\u001b[0m \u001b[1;32mand\u001b[0m \u001b[1;32mnot\u001b[0m \u001b[0misinstance\u001b[0m\u001b[1;33m(\u001b[0m\u001b[0mfunc_err\u001b[0m\u001b[1;33m,\u001b[0m \u001b[0mcatch\u001b[0m\u001b[1;33m)\u001b[0m\u001b[1;33m:\u001b[0m\u001b[1;33m\u001b[0m\u001b[1;33m\u001b[0m\u001b[0m\n\u001b[1;32m--> 268\u001b[1;33m         \u001b[1;32mraise\u001b[0m \u001b[0mfunc_err\u001b[0m\u001b[1;33m\u001b[0m\u001b[1;33m\u001b[0m\u001b[0m\n\u001b[0m\u001b[0;32m    269\u001b[0m     \u001b[1;32mreturn\u001b[0m \u001b[0mtrial\u001b[0m\u001b[1;33m\u001b[0m\u001b[1;33m\u001b[0m\u001b[0m\n\u001b[0;32m    270\u001b[0m \u001b[1;33m\u001b[0m\u001b[0m\n",
            "\u001b[1;32m~\\anaconda3\\lib\\site-packages\\optuna\\_optimize.py\u001b[0m in \u001b[0;36m_run_trial\u001b[1;34m(study, func, catch)\u001b[0m\n\u001b[0;32m    215\u001b[0m \u001b[1;33m\u001b[0m\u001b[0m\n\u001b[0;32m    216\u001b[0m     \u001b[1;32mtry\u001b[0m\u001b[1;33m:\u001b[0m\u001b[1;33m\u001b[0m\u001b[1;33m\u001b[0m\u001b[0m\n\u001b[1;32m--> 217\u001b[1;33m         \u001b[0mvalue_or_values\u001b[0m \u001b[1;33m=\u001b[0m \u001b[0mfunc\u001b[0m\u001b[1;33m(\u001b[0m\u001b[0mtrial\u001b[0m\u001b[1;33m)\u001b[0m\u001b[1;33m\u001b[0m\u001b[1;33m\u001b[0m\u001b[0m\n\u001b[0m\u001b[0;32m    218\u001b[0m     \u001b[1;32mexcept\u001b[0m \u001b[0mexceptions\u001b[0m\u001b[1;33m.\u001b[0m\u001b[0mTrialPruned\u001b[0m \u001b[1;32mas\u001b[0m \u001b[0me\u001b[0m\u001b[1;33m:\u001b[0m\u001b[1;33m\u001b[0m\u001b[1;33m\u001b[0m\u001b[0m\n\u001b[0;32m    219\u001b[0m         \u001b[1;31m# TODO(mamu): Handle multi-objective cases.\u001b[0m\u001b[1;33m\u001b[0m\u001b[1;33m\u001b[0m\u001b[1;33m\u001b[0m\u001b[0m\n",
            "\u001b[1;32m~\\anaconda3\\lib\\site-packages\\pytorch_forecasting\\models\\temporal_fusion_transformer\\tuning.py\u001b[0m in \u001b[0;36mobjective\u001b[1;34m(trial)\u001b[0m\n\u001b[0;32m    204\u001b[0m \u001b[1;33m\u001b[0m\u001b[0m\n\u001b[0;32m    205\u001b[0m         \u001b[1;31m# fit\u001b[0m\u001b[1;33m\u001b[0m\u001b[1;33m\u001b[0m\u001b[1;33m\u001b[0m\u001b[0m\n\u001b[1;32m--> 206\u001b[1;33m         \u001b[0mtrainer\u001b[0m\u001b[1;33m.\u001b[0m\u001b[0mfit\u001b[0m\u001b[1;33m(\u001b[0m\u001b[0mmodel\u001b[0m\u001b[1;33m,\u001b[0m \u001b[0mtrain_dataloader\u001b[0m\u001b[1;33m=\u001b[0m\u001b[0mtrain_dataloader\u001b[0m\u001b[1;33m,\u001b[0m \u001b[0mval_dataloaders\u001b[0m\u001b[1;33m=\u001b[0m\u001b[0mval_dataloader\u001b[0m\u001b[1;33m)\u001b[0m\u001b[1;33m\u001b[0m\u001b[1;33m\u001b[0m\u001b[0m\n\u001b[0m\u001b[0;32m    207\u001b[0m \u001b[1;33m\u001b[0m\u001b[0m\n\u001b[0;32m    208\u001b[0m         \u001b[1;31m# report result\u001b[0m\u001b[1;33m\u001b[0m\u001b[1;33m\u001b[0m\u001b[1;33m\u001b[0m\u001b[0m\n",
            "\u001b[1;32m~\\anaconda3\\lib\\site-packages\\pytorch_lightning\\trainer\\trainer.py\u001b[0m in \u001b[0;36mfit\u001b[1;34m(self, model, train_dataloader, val_dataloaders, datamodule)\u001b[0m\n\u001b[0;32m    456\u001b[0m         )\n\u001b[0;32m    457\u001b[0m \u001b[1;33m\u001b[0m\u001b[0m\n\u001b[1;32m--> 458\u001b[1;33m         \u001b[0mself\u001b[0m\u001b[1;33m.\u001b[0m\u001b[0m_run\u001b[0m\u001b[1;33m(\u001b[0m\u001b[0mmodel\u001b[0m\u001b[1;33m)\u001b[0m\u001b[1;33m\u001b[0m\u001b[1;33m\u001b[0m\u001b[0m\n\u001b[0m\u001b[0;32m    459\u001b[0m \u001b[1;33m\u001b[0m\u001b[0m\n\u001b[0;32m    460\u001b[0m         \u001b[1;32massert\u001b[0m \u001b[0mself\u001b[0m\u001b[1;33m.\u001b[0m\u001b[0mstate\u001b[0m\u001b[1;33m.\u001b[0m\u001b[0mstopped\u001b[0m\u001b[1;33m\u001b[0m\u001b[1;33m\u001b[0m\u001b[0m\n",
            "\u001b[1;32m~\\anaconda3\\lib\\site-packages\\pytorch_lightning\\trainer\\trainer.py\u001b[0m in \u001b[0;36m_run\u001b[1;34m(self, model)\u001b[0m\n\u001b[0;32m    754\u001b[0m \u001b[1;33m\u001b[0m\u001b[0m\n\u001b[0;32m    755\u001b[0m         \u001b[1;31m# dispatch `start_training` or `start_evaluating` or `start_predicting`\u001b[0m\u001b[1;33m\u001b[0m\u001b[1;33m\u001b[0m\u001b[1;33m\u001b[0m\u001b[0m\n\u001b[1;32m--> 756\u001b[1;33m         \u001b[0mself\u001b[0m\u001b[1;33m.\u001b[0m\u001b[0mdispatch\u001b[0m\u001b[1;33m(\u001b[0m\u001b[1;33m)\u001b[0m\u001b[1;33m\u001b[0m\u001b[1;33m\u001b[0m\u001b[0m\n\u001b[0m\u001b[0;32m    757\u001b[0m \u001b[1;33m\u001b[0m\u001b[0m\n\u001b[0;32m    758\u001b[0m         \u001b[1;31m# plugin will finalized fitting (e.g. ddp_spawn will load trained model)\u001b[0m\u001b[1;33m\u001b[0m\u001b[1;33m\u001b[0m\u001b[1;33m\u001b[0m\u001b[0m\n",
            "\u001b[1;32m~\\anaconda3\\lib\\site-packages\\pytorch_lightning\\trainer\\trainer.py\u001b[0m in \u001b[0;36mdispatch\u001b[1;34m(self)\u001b[0m\n\u001b[0;32m    795\u001b[0m             \u001b[0mself\u001b[0m\u001b[1;33m.\u001b[0m\u001b[0maccelerator\u001b[0m\u001b[1;33m.\u001b[0m\u001b[0mstart_predicting\u001b[0m\u001b[1;33m(\u001b[0m\u001b[0mself\u001b[0m\u001b[1;33m)\u001b[0m\u001b[1;33m\u001b[0m\u001b[1;33m\u001b[0m\u001b[0m\n\u001b[0;32m    796\u001b[0m         \u001b[1;32melse\u001b[0m\u001b[1;33m:\u001b[0m\u001b[1;33m\u001b[0m\u001b[1;33m\u001b[0m\u001b[0m\n\u001b[1;32m--> 797\u001b[1;33m             \u001b[0mself\u001b[0m\u001b[1;33m.\u001b[0m\u001b[0maccelerator\u001b[0m\u001b[1;33m.\u001b[0m\u001b[0mstart_training\u001b[0m\u001b[1;33m(\u001b[0m\u001b[0mself\u001b[0m\u001b[1;33m)\u001b[0m\u001b[1;33m\u001b[0m\u001b[1;33m\u001b[0m\u001b[0m\n\u001b[0m\u001b[0;32m    798\u001b[0m \u001b[1;33m\u001b[0m\u001b[0m\n\u001b[0;32m    799\u001b[0m     \u001b[1;32mdef\u001b[0m \u001b[0mrun_stage\u001b[0m\u001b[1;33m(\u001b[0m\u001b[0mself\u001b[0m\u001b[1;33m)\u001b[0m\u001b[1;33m:\u001b[0m\u001b[1;33m\u001b[0m\u001b[1;33m\u001b[0m\u001b[0m\n",
            "\u001b[1;32m~\\anaconda3\\lib\\site-packages\\pytorch_lightning\\accelerators\\accelerator.py\u001b[0m in \u001b[0;36mstart_training\u001b[1;34m(self, trainer)\u001b[0m\n\u001b[0;32m     94\u001b[0m \u001b[1;33m\u001b[0m\u001b[0m\n\u001b[0;32m     95\u001b[0m     \u001b[1;32mdef\u001b[0m \u001b[0mstart_training\u001b[0m\u001b[1;33m(\u001b[0m\u001b[0mself\u001b[0m\u001b[1;33m,\u001b[0m \u001b[0mtrainer\u001b[0m\u001b[1;33m:\u001b[0m \u001b[1;34m'pl.Trainer'\u001b[0m\u001b[1;33m)\u001b[0m \u001b[1;33m->\u001b[0m \u001b[1;32mNone\u001b[0m\u001b[1;33m:\u001b[0m\u001b[1;33m\u001b[0m\u001b[1;33m\u001b[0m\u001b[0m\n\u001b[1;32m---> 96\u001b[1;33m         \u001b[0mself\u001b[0m\u001b[1;33m.\u001b[0m\u001b[0mtraining_type_plugin\u001b[0m\u001b[1;33m.\u001b[0m\u001b[0mstart_training\u001b[0m\u001b[1;33m(\u001b[0m\u001b[0mtrainer\u001b[0m\u001b[1;33m)\u001b[0m\u001b[1;33m\u001b[0m\u001b[1;33m\u001b[0m\u001b[0m\n\u001b[0m\u001b[0;32m     97\u001b[0m \u001b[1;33m\u001b[0m\u001b[0m\n\u001b[0;32m     98\u001b[0m     \u001b[1;32mdef\u001b[0m \u001b[0mstart_evaluating\u001b[0m\u001b[1;33m(\u001b[0m\u001b[0mself\u001b[0m\u001b[1;33m,\u001b[0m \u001b[0mtrainer\u001b[0m\u001b[1;33m:\u001b[0m \u001b[1;34m'pl.Trainer'\u001b[0m\u001b[1;33m)\u001b[0m \u001b[1;33m->\u001b[0m \u001b[1;32mNone\u001b[0m\u001b[1;33m:\u001b[0m\u001b[1;33m\u001b[0m\u001b[1;33m\u001b[0m\u001b[0m\n",
            "\u001b[1;32m~\\anaconda3\\lib\\site-packages\\pytorch_lightning\\plugins\\training_type\\training_type_plugin.py\u001b[0m in \u001b[0;36mstart_training\u001b[1;34m(self, trainer)\u001b[0m\n\u001b[0;32m    142\u001b[0m     \u001b[1;32mdef\u001b[0m \u001b[0mstart_training\u001b[0m\u001b[1;33m(\u001b[0m\u001b[0mself\u001b[0m\u001b[1;33m,\u001b[0m \u001b[0mtrainer\u001b[0m\u001b[1;33m:\u001b[0m \u001b[1;34m'pl.Trainer'\u001b[0m\u001b[1;33m)\u001b[0m \u001b[1;33m->\u001b[0m \u001b[1;32mNone\u001b[0m\u001b[1;33m:\u001b[0m\u001b[1;33m\u001b[0m\u001b[1;33m\u001b[0m\u001b[0m\n\u001b[0;32m    143\u001b[0m         \u001b[1;31m# double dispatch to initiate the training loop\u001b[0m\u001b[1;33m\u001b[0m\u001b[1;33m\u001b[0m\u001b[1;33m\u001b[0m\u001b[0m\n\u001b[1;32m--> 144\u001b[1;33m         \u001b[0mself\u001b[0m\u001b[1;33m.\u001b[0m\u001b[0m_results\u001b[0m \u001b[1;33m=\u001b[0m \u001b[0mtrainer\u001b[0m\u001b[1;33m.\u001b[0m\u001b[0mrun_stage\u001b[0m\u001b[1;33m(\u001b[0m\u001b[1;33m)\u001b[0m\u001b[1;33m\u001b[0m\u001b[1;33m\u001b[0m\u001b[0m\n\u001b[0m\u001b[0;32m    145\u001b[0m \u001b[1;33m\u001b[0m\u001b[0m\n\u001b[0;32m    146\u001b[0m     \u001b[1;32mdef\u001b[0m \u001b[0mstart_evaluating\u001b[0m\u001b[1;33m(\u001b[0m\u001b[0mself\u001b[0m\u001b[1;33m,\u001b[0m \u001b[0mtrainer\u001b[0m\u001b[1;33m:\u001b[0m \u001b[1;34m'pl.Trainer'\u001b[0m\u001b[1;33m)\u001b[0m \u001b[1;33m->\u001b[0m \u001b[1;32mNone\u001b[0m\u001b[1;33m:\u001b[0m\u001b[1;33m\u001b[0m\u001b[1;33m\u001b[0m\u001b[0m\n",
            "\u001b[1;32m~\\anaconda3\\lib\\site-packages\\pytorch_lightning\\trainer\\trainer.py\u001b[0m in \u001b[0;36mrun_stage\u001b[1;34m(self)\u001b[0m\n\u001b[0;32m    805\u001b[0m         \u001b[1;32mif\u001b[0m \u001b[0mself\u001b[0m\u001b[1;33m.\u001b[0m\u001b[0mpredicting\u001b[0m\u001b[1;33m:\u001b[0m\u001b[1;33m\u001b[0m\u001b[1;33m\u001b[0m\u001b[0m\n\u001b[0;32m    806\u001b[0m             \u001b[1;32mreturn\u001b[0m \u001b[0mself\u001b[0m\u001b[1;33m.\u001b[0m\u001b[0mrun_predict\u001b[0m\u001b[1;33m(\u001b[0m\u001b[1;33m)\u001b[0m\u001b[1;33m\u001b[0m\u001b[1;33m\u001b[0m\u001b[0m\n\u001b[1;32m--> 807\u001b[1;33m         \u001b[1;32mreturn\u001b[0m \u001b[0mself\u001b[0m\u001b[1;33m.\u001b[0m\u001b[0mrun_train\u001b[0m\u001b[1;33m(\u001b[0m\u001b[1;33m)\u001b[0m\u001b[1;33m\u001b[0m\u001b[1;33m\u001b[0m\u001b[0m\n\u001b[0m\u001b[0;32m    808\u001b[0m \u001b[1;33m\u001b[0m\u001b[0m\n\u001b[0;32m    809\u001b[0m     \u001b[1;32mdef\u001b[0m \u001b[0m_pre_training_routine\u001b[0m\u001b[1;33m(\u001b[0m\u001b[0mself\u001b[0m\u001b[1;33m)\u001b[0m\u001b[1;33m:\u001b[0m\u001b[1;33m\u001b[0m\u001b[1;33m\u001b[0m\u001b[0m\n",
            "\u001b[1;32m~\\anaconda3\\lib\\site-packages\\pytorch_lightning\\trainer\\trainer.py\u001b[0m in \u001b[0;36mrun_train\u001b[1;34m(self)\u001b[0m\n\u001b[0;32m    840\u001b[0m             \u001b[0mself\u001b[0m\u001b[1;33m.\u001b[0m\u001b[0mprogress_bar_callback\u001b[0m\u001b[1;33m.\u001b[0m\u001b[0mdisable\u001b[0m\u001b[1;33m(\u001b[0m\u001b[1;33m)\u001b[0m\u001b[1;33m\u001b[0m\u001b[1;33m\u001b[0m\u001b[0m\n\u001b[0;32m    841\u001b[0m \u001b[1;33m\u001b[0m\u001b[0m\n\u001b[1;32m--> 842\u001b[1;33m         \u001b[0mself\u001b[0m\u001b[1;33m.\u001b[0m\u001b[0mrun_sanity_check\u001b[0m\u001b[1;33m(\u001b[0m\u001b[0mself\u001b[0m\u001b[1;33m.\u001b[0m\u001b[0mlightning_module\u001b[0m\u001b[1;33m)\u001b[0m\u001b[1;33m\u001b[0m\u001b[1;33m\u001b[0m\u001b[0m\n\u001b[0m\u001b[0;32m    843\u001b[0m \u001b[1;33m\u001b[0m\u001b[0m\n\u001b[0;32m    844\u001b[0m         \u001b[0mself\u001b[0m\u001b[1;33m.\u001b[0m\u001b[0mcheckpoint_connector\u001b[0m\u001b[1;33m.\u001b[0m\u001b[0mhas_trained\u001b[0m \u001b[1;33m=\u001b[0m \u001b[1;32mFalse\u001b[0m\u001b[1;33m\u001b[0m\u001b[1;33m\u001b[0m\u001b[0m\n",
            "\u001b[1;32m~\\anaconda3\\lib\\site-packages\\pytorch_lightning\\trainer\\trainer.py\u001b[0m in \u001b[0;36mrun_sanity_check\u001b[1;34m(self, ref_model)\u001b[0m\n\u001b[0;32m   1105\u001b[0m \u001b[1;33m\u001b[0m\u001b[0m\n\u001b[0;32m   1106\u001b[0m             \u001b[1;31m# run eval step\u001b[0m\u001b[1;33m\u001b[0m\u001b[1;33m\u001b[0m\u001b[1;33m\u001b[0m\u001b[0m\n\u001b[1;32m-> 1107\u001b[1;33m             \u001b[0mself\u001b[0m\u001b[1;33m.\u001b[0m\u001b[0mrun_evaluation\u001b[0m\u001b[1;33m(\u001b[0m\u001b[1;33m)\u001b[0m\u001b[1;33m\u001b[0m\u001b[1;33m\u001b[0m\u001b[0m\n\u001b[0m\u001b[0;32m   1108\u001b[0m \u001b[1;33m\u001b[0m\u001b[0m\n\u001b[0;32m   1109\u001b[0m             \u001b[0mself\u001b[0m\u001b[1;33m.\u001b[0m\u001b[0mon_sanity_check_end\u001b[0m\u001b[1;33m(\u001b[0m\u001b[1;33m)\u001b[0m\u001b[1;33m\u001b[0m\u001b[1;33m\u001b[0m\u001b[0m\n",
            "\u001b[1;32m~\\anaconda3\\lib\\site-packages\\pytorch_lightning\\trainer\\trainer.py\u001b[0m in \u001b[0;36mrun_evaluation\u001b[1;34m(self, on_epoch)\u001b[0m\n\u001b[0;32m    960\u001b[0m                 \u001b[1;31m# lightning module methods\u001b[0m\u001b[1;33m\u001b[0m\u001b[1;33m\u001b[0m\u001b[1;33m\u001b[0m\u001b[0m\n\u001b[0;32m    961\u001b[0m                 \u001b[1;32mwith\u001b[0m \u001b[0mself\u001b[0m\u001b[1;33m.\u001b[0m\u001b[0mprofiler\u001b[0m\u001b[1;33m.\u001b[0m\u001b[0mprofile\u001b[0m\u001b[1;33m(\u001b[0m\u001b[1;34m\"evaluation_step_and_end\"\u001b[0m\u001b[1;33m)\u001b[0m\u001b[1;33m:\u001b[0m\u001b[1;33m\u001b[0m\u001b[1;33m\u001b[0m\u001b[0m\n\u001b[1;32m--> 962\u001b[1;33m                     \u001b[0moutput\u001b[0m \u001b[1;33m=\u001b[0m \u001b[0mself\u001b[0m\u001b[1;33m.\u001b[0m\u001b[0mevaluation_loop\u001b[0m\u001b[1;33m.\u001b[0m\u001b[0mevaluation_step\u001b[0m\u001b[1;33m(\u001b[0m\u001b[0mbatch\u001b[0m\u001b[1;33m,\u001b[0m \u001b[0mbatch_idx\u001b[0m\u001b[1;33m,\u001b[0m \u001b[0mdataloader_idx\u001b[0m\u001b[1;33m)\u001b[0m\u001b[1;33m\u001b[0m\u001b[1;33m\u001b[0m\u001b[0m\n\u001b[0m\u001b[0;32m    963\u001b[0m                     \u001b[0moutput\u001b[0m \u001b[1;33m=\u001b[0m \u001b[0mself\u001b[0m\u001b[1;33m.\u001b[0m\u001b[0mevaluation_loop\u001b[0m\u001b[1;33m.\u001b[0m\u001b[0mevaluation_step_end\u001b[0m\u001b[1;33m(\u001b[0m\u001b[0moutput\u001b[0m\u001b[1;33m)\u001b[0m\u001b[1;33m\u001b[0m\u001b[1;33m\u001b[0m\u001b[0m\n\u001b[0;32m    964\u001b[0m \u001b[1;33m\u001b[0m\u001b[0m\n",
            "\u001b[1;32m~\\anaconda3\\lib\\site-packages\\pytorch_lightning\\trainer\\evaluation_loop.py\u001b[0m in \u001b[0;36mevaluation_step\u001b[1;34m(self, batch, batch_idx, dataloader_idx)\u001b[0m\n\u001b[0;32m    172\u001b[0m             \u001b[0mmodel_ref\u001b[0m\u001b[1;33m.\u001b[0m\u001b[0m_current_fx_name\u001b[0m \u001b[1;33m=\u001b[0m \u001b[1;34m\"validation_step\"\u001b[0m\u001b[1;33m\u001b[0m\u001b[1;33m\u001b[0m\u001b[0m\n\u001b[0;32m    173\u001b[0m             \u001b[1;32mwith\u001b[0m \u001b[0mself\u001b[0m\u001b[1;33m.\u001b[0m\u001b[0mtrainer\u001b[0m\u001b[1;33m.\u001b[0m\u001b[0mprofiler\u001b[0m\u001b[1;33m.\u001b[0m\u001b[0mprofile\u001b[0m\u001b[1;33m(\u001b[0m\u001b[1;34m\"validation_step\"\u001b[0m\u001b[1;33m)\u001b[0m\u001b[1;33m:\u001b[0m\u001b[1;33m\u001b[0m\u001b[1;33m\u001b[0m\u001b[0m\n\u001b[1;32m--> 174\u001b[1;33m                 \u001b[0moutput\u001b[0m \u001b[1;33m=\u001b[0m \u001b[0mself\u001b[0m\u001b[1;33m.\u001b[0m\u001b[0mtrainer\u001b[0m\u001b[1;33m.\u001b[0m\u001b[0maccelerator\u001b[0m\u001b[1;33m.\u001b[0m\u001b[0mvalidation_step\u001b[0m\u001b[1;33m(\u001b[0m\u001b[0margs\u001b[0m\u001b[1;33m)\u001b[0m\u001b[1;33m\u001b[0m\u001b[1;33m\u001b[0m\u001b[0m\n\u001b[0m\u001b[0;32m    175\u001b[0m \u001b[1;33m\u001b[0m\u001b[0m\n\u001b[0;32m    176\u001b[0m         \u001b[1;31m# capture any logged information\u001b[0m\u001b[1;33m\u001b[0m\u001b[1;33m\u001b[0m\u001b[1;33m\u001b[0m\u001b[0m\n",
            "\u001b[1;32m~\\anaconda3\\lib\\site-packages\\pytorch_lightning\\accelerators\\accelerator.py\u001b[0m in \u001b[0;36mvalidation_step\u001b[1;34m(self, args)\u001b[0m\n\u001b[0;32m    224\u001b[0m \u001b[1;33m\u001b[0m\u001b[0m\n\u001b[0;32m    225\u001b[0m         \u001b[1;32mwith\u001b[0m \u001b[0mself\u001b[0m\u001b[1;33m.\u001b[0m\u001b[0mprecision_plugin\u001b[0m\u001b[1;33m.\u001b[0m\u001b[0mval_step_context\u001b[0m\u001b[1;33m(\u001b[0m\u001b[1;33m)\u001b[0m\u001b[1;33m,\u001b[0m \u001b[0mself\u001b[0m\u001b[1;33m.\u001b[0m\u001b[0mtraining_type_plugin\u001b[0m\u001b[1;33m.\u001b[0m\u001b[0mval_step_context\u001b[0m\u001b[1;33m(\u001b[0m\u001b[1;33m)\u001b[0m\u001b[1;33m:\u001b[0m\u001b[1;33m\u001b[0m\u001b[1;33m\u001b[0m\u001b[0m\n\u001b[1;32m--> 226\u001b[1;33m             \u001b[1;32mreturn\u001b[0m \u001b[0mself\u001b[0m\u001b[1;33m.\u001b[0m\u001b[0mtraining_type_plugin\u001b[0m\u001b[1;33m.\u001b[0m\u001b[0mvalidation_step\u001b[0m\u001b[1;33m(\u001b[0m\u001b[1;33m*\u001b[0m\u001b[0margs\u001b[0m\u001b[1;33m)\u001b[0m\u001b[1;33m\u001b[0m\u001b[1;33m\u001b[0m\u001b[0m\n\u001b[0m\u001b[0;32m    227\u001b[0m \u001b[1;33m\u001b[0m\u001b[0m\n\u001b[0;32m    228\u001b[0m     \u001b[1;32mdef\u001b[0m \u001b[0mtest_step\u001b[0m\u001b[1;33m(\u001b[0m\u001b[0mself\u001b[0m\u001b[1;33m,\u001b[0m \u001b[0margs\u001b[0m\u001b[1;33m:\u001b[0m \u001b[0mList\u001b[0m\u001b[1;33m[\u001b[0m\u001b[0mUnion\u001b[0m\u001b[1;33m[\u001b[0m\u001b[0mAny\u001b[0m\u001b[1;33m,\u001b[0m \u001b[0mint\u001b[0m\u001b[1;33m]\u001b[0m\u001b[1;33m]\u001b[0m\u001b[1;33m)\u001b[0m \u001b[1;33m->\u001b[0m \u001b[0mOptional\u001b[0m\u001b[1;33m[\u001b[0m\u001b[0mSTEP_OUTPUT\u001b[0m\u001b[1;33m]\u001b[0m\u001b[1;33m:\u001b[0m\u001b[1;33m\u001b[0m\u001b[1;33m\u001b[0m\u001b[0m\n",
            "\u001b[1;32m~\\anaconda3\\lib\\site-packages\\pytorch_lightning\\plugins\\training_type\\training_type_plugin.py\u001b[0m in \u001b[0;36mvalidation_step\u001b[1;34m(self, *args, **kwargs)\u001b[0m\n\u001b[0;32m    159\u001b[0m \u001b[1;33m\u001b[0m\u001b[0m\n\u001b[0;32m    160\u001b[0m     \u001b[1;32mdef\u001b[0m \u001b[0mvalidation_step\u001b[0m\u001b[1;33m(\u001b[0m\u001b[0mself\u001b[0m\u001b[1;33m,\u001b[0m \u001b[1;33m*\u001b[0m\u001b[0margs\u001b[0m\u001b[1;33m,\u001b[0m \u001b[1;33m**\u001b[0m\u001b[0mkwargs\u001b[0m\u001b[1;33m)\u001b[0m\u001b[1;33m:\u001b[0m\u001b[1;33m\u001b[0m\u001b[1;33m\u001b[0m\u001b[0m\n\u001b[1;32m--> 161\u001b[1;33m         \u001b[1;32mreturn\u001b[0m \u001b[0mself\u001b[0m\u001b[1;33m.\u001b[0m\u001b[0mlightning_module\u001b[0m\u001b[1;33m.\u001b[0m\u001b[0mvalidation_step\u001b[0m\u001b[1;33m(\u001b[0m\u001b[1;33m*\u001b[0m\u001b[0margs\u001b[0m\u001b[1;33m,\u001b[0m \u001b[1;33m**\u001b[0m\u001b[0mkwargs\u001b[0m\u001b[1;33m)\u001b[0m\u001b[1;33m\u001b[0m\u001b[1;33m\u001b[0m\u001b[0m\n\u001b[0m\u001b[0;32m    162\u001b[0m \u001b[1;33m\u001b[0m\u001b[0m\n\u001b[0;32m    163\u001b[0m     \u001b[1;32mdef\u001b[0m \u001b[0mtest_step\u001b[0m\u001b[1;33m(\u001b[0m\u001b[0mself\u001b[0m\u001b[1;33m,\u001b[0m \u001b[1;33m*\u001b[0m\u001b[0margs\u001b[0m\u001b[1;33m,\u001b[0m \u001b[1;33m**\u001b[0m\u001b[0mkwargs\u001b[0m\u001b[1;33m)\u001b[0m\u001b[1;33m:\u001b[0m\u001b[1;33m\u001b[0m\u001b[1;33m\u001b[0m\u001b[0m\n",
            "\u001b[1;32m~\\anaconda3\\lib\\site-packages\\pytorch_forecasting\\models\\base_model.py\u001b[0m in \u001b[0;36mvalidation_step\u001b[1;34m(self, batch, batch_idx)\u001b[0m\n\u001b[0;32m    353\u001b[0m     \u001b[1;32mdef\u001b[0m \u001b[0mvalidation_step\u001b[0m\u001b[1;33m(\u001b[0m\u001b[0mself\u001b[0m\u001b[1;33m,\u001b[0m \u001b[0mbatch\u001b[0m\u001b[1;33m,\u001b[0m \u001b[0mbatch_idx\u001b[0m\u001b[1;33m)\u001b[0m\u001b[1;33m:\u001b[0m\u001b[1;33m\u001b[0m\u001b[1;33m\u001b[0m\u001b[0m\n\u001b[0;32m    354\u001b[0m         \u001b[0mx\u001b[0m\u001b[1;33m,\u001b[0m \u001b[0my\u001b[0m \u001b[1;33m=\u001b[0m \u001b[0mbatch\u001b[0m\u001b[1;33m\u001b[0m\u001b[1;33m\u001b[0m\u001b[0m\n\u001b[1;32m--> 355\u001b[1;33m         \u001b[0mlog\u001b[0m\u001b[1;33m,\u001b[0m \u001b[0m_\u001b[0m \u001b[1;33m=\u001b[0m \u001b[0mself\u001b[0m\u001b[1;33m.\u001b[0m\u001b[0mstep\u001b[0m\u001b[1;33m(\u001b[0m\u001b[0mx\u001b[0m\u001b[1;33m,\u001b[0m \u001b[0my\u001b[0m\u001b[1;33m,\u001b[0m \u001b[0mbatch_idx\u001b[0m\u001b[1;33m)\u001b[0m  \u001b[1;31m# log loss\u001b[0m\u001b[1;33m\u001b[0m\u001b[1;33m\u001b[0m\u001b[0m\n\u001b[0m\u001b[0;32m    356\u001b[0m         \u001b[0mself\u001b[0m\u001b[1;33m.\u001b[0m\u001b[0mlog\u001b[0m\u001b[1;33m(\u001b[0m\u001b[1;34m\"val_loss\"\u001b[0m\u001b[1;33m,\u001b[0m \u001b[0mlog\u001b[0m\u001b[1;33m[\u001b[0m\u001b[1;34m\"loss\"\u001b[0m\u001b[1;33m]\u001b[0m\u001b[1;33m,\u001b[0m \u001b[0mon_step\u001b[0m\u001b[1;33m=\u001b[0m\u001b[1;32mFalse\u001b[0m\u001b[1;33m,\u001b[0m \u001b[0mon_epoch\u001b[0m\u001b[1;33m=\u001b[0m\u001b[1;32mTrue\u001b[0m\u001b[1;33m,\u001b[0m \u001b[0mprog_bar\u001b[0m\u001b[1;33m=\u001b[0m\u001b[1;32mTrue\u001b[0m\u001b[1;33m)\u001b[0m\u001b[1;33m\u001b[0m\u001b[1;33m\u001b[0m\u001b[0m\n\u001b[0;32m    357\u001b[0m         \u001b[1;32mreturn\u001b[0m \u001b[0mlog\u001b[0m\u001b[1;33m\u001b[0m\u001b[1;33m\u001b[0m\u001b[0m\n",
            "\u001b[1;32m~\\anaconda3\\lib\\site-packages\\pytorch_forecasting\\models\\temporal_fusion_transformer\\__init__.py\u001b[0m in \u001b[0;36mstep\u001b[1;34m(self, x, y, batch_idx)\u001b[0m\n\u001b[0;32m    521\u001b[0m         \"\"\"\n\u001b[0;32m    522\u001b[0m         \u001b[1;31m# extract data and run model\u001b[0m\u001b[1;33m\u001b[0m\u001b[1;33m\u001b[0m\u001b[1;33m\u001b[0m\u001b[0m\n\u001b[1;32m--> 523\u001b[1;33m         \u001b[0mlog\u001b[0m\u001b[1;33m,\u001b[0m \u001b[0mout\u001b[0m \u001b[1;33m=\u001b[0m \u001b[0msuper\u001b[0m\u001b[1;33m(\u001b[0m\u001b[1;33m)\u001b[0m\u001b[1;33m.\u001b[0m\u001b[0mstep\u001b[0m\u001b[1;33m(\u001b[0m\u001b[0mx\u001b[0m\u001b[1;33m,\u001b[0m \u001b[0my\u001b[0m\u001b[1;33m,\u001b[0m \u001b[0mbatch_idx\u001b[0m\u001b[1;33m)\u001b[0m\u001b[1;33m\u001b[0m\u001b[1;33m\u001b[0m\u001b[0m\n\u001b[0m\u001b[0;32m    524\u001b[0m         \u001b[1;31m# calculate interpretations etc for latter logging\u001b[0m\u001b[1;33m\u001b[0m\u001b[1;33m\u001b[0m\u001b[1;33m\u001b[0m\u001b[0m\n\u001b[0;32m    525\u001b[0m         \u001b[1;32mif\u001b[0m \u001b[0mself\u001b[0m\u001b[1;33m.\u001b[0m\u001b[0mlog_interval\u001b[0m \u001b[1;33m>\u001b[0m \u001b[1;36m0\u001b[0m\u001b[1;33m:\u001b[0m\u001b[1;33m\u001b[0m\u001b[1;33m\u001b[0m\u001b[0m\n",
            "\u001b[1;32m~\\anaconda3\\lib\\site-packages\\pytorch_forecasting\\models\\base_model.py\u001b[0m in \u001b[0;36mstep\u001b[1;34m(self, x, y, batch_idx, **kwargs)\u001b[0m\n\u001b[0;32m    443\u001b[0m             \u001b[0mloss\u001b[0m \u001b[1;33m=\u001b[0m \u001b[0mloss\u001b[0m \u001b[1;33m*\u001b[0m \u001b[1;33m(\u001b[0m\u001b[1;36m1\u001b[0m \u001b[1;33m+\u001b[0m \u001b[0mmonotinicity_loss\u001b[0m\u001b[1;33m)\u001b[0m\u001b[1;33m\u001b[0m\u001b[1;33m\u001b[0m\u001b[0m\n\u001b[0;32m    444\u001b[0m         \u001b[1;32melse\u001b[0m\u001b[1;33m:\u001b[0m\u001b[1;33m\u001b[0m\u001b[1;33m\u001b[0m\u001b[0m\n\u001b[1;32m--> 445\u001b[1;33m             \u001b[0mout\u001b[0m \u001b[1;33m=\u001b[0m \u001b[0mself\u001b[0m\u001b[1;33m(\u001b[0m\u001b[0mx\u001b[0m\u001b[1;33m,\u001b[0m \u001b[1;33m**\u001b[0m\u001b[0mkwargs\u001b[0m\u001b[1;33m)\u001b[0m\u001b[1;33m\u001b[0m\u001b[1;33m\u001b[0m\u001b[0m\n\u001b[0m\u001b[0;32m    446\u001b[0m             \u001b[0mout\u001b[0m\u001b[1;33m[\u001b[0m\u001b[1;34m\"prediction\"\u001b[0m\u001b[1;33m]\u001b[0m \u001b[1;33m=\u001b[0m \u001b[0mself\u001b[0m\u001b[1;33m.\u001b[0m\u001b[0mtransform_output\u001b[0m\u001b[1;33m(\u001b[0m\u001b[0mout\u001b[0m\u001b[1;33m)\u001b[0m\u001b[1;33m\u001b[0m\u001b[1;33m\u001b[0m\u001b[0m\n\u001b[0;32m    447\u001b[0m \u001b[1;33m\u001b[0m\u001b[0m\n",
            "\u001b[1;32m~\\anaconda3\\lib\\site-packages\\torch\\nn\\modules\\module.py\u001b[0m in \u001b[0;36m_call_impl\u001b[1;34m(self, *input, **kwargs)\u001b[0m\n\u001b[0;32m   1049\u001b[0m         if not (self._backward_hooks or self._forward_hooks or self._forward_pre_hooks or _global_backward_hooks\n\u001b[0;32m   1050\u001b[0m                 or _global_forward_hooks or _global_forward_pre_hooks):\n\u001b[1;32m-> 1051\u001b[1;33m             \u001b[1;32mreturn\u001b[0m \u001b[0mforward_call\u001b[0m\u001b[1;33m(\u001b[0m\u001b[1;33m*\u001b[0m\u001b[0minput\u001b[0m\u001b[1;33m,\u001b[0m \u001b[1;33m**\u001b[0m\u001b[0mkwargs\u001b[0m\u001b[1;33m)\u001b[0m\u001b[1;33m\u001b[0m\u001b[1;33m\u001b[0m\u001b[0m\n\u001b[0m\u001b[0;32m   1052\u001b[0m         \u001b[1;31m# Do not call functions when jit is used\u001b[0m\u001b[1;33m\u001b[0m\u001b[1;33m\u001b[0m\u001b[1;33m\u001b[0m\u001b[0m\n\u001b[0;32m   1053\u001b[0m         \u001b[0mfull_backward_hooks\u001b[0m\u001b[1;33m,\u001b[0m \u001b[0mnon_full_backward_hooks\u001b[0m \u001b[1;33m=\u001b[0m \u001b[1;33m[\u001b[0m\u001b[1;33m]\u001b[0m\u001b[1;33m,\u001b[0m \u001b[1;33m[\u001b[0m\u001b[1;33m]\u001b[0m\u001b[1;33m\u001b[0m\u001b[1;33m\u001b[0m\u001b[0m\n",
            "\u001b[1;32m~\\anaconda3\\lib\\site-packages\\pytorch_forecasting\\models\\temporal_fusion_transformer\\__init__.py\u001b[0m in \u001b[0;36mforward\u001b[1;34m(self, x)\u001b[0m\n\u001b[0;32m    428\u001b[0m             \u001b[0mname\u001b[0m\u001b[1;33m:\u001b[0m \u001b[0minput_vectors\u001b[0m\u001b[1;33m[\u001b[0m\u001b[0mname\u001b[0m\u001b[1;33m]\u001b[0m\u001b[1;33m[\u001b[0m\u001b[1;33m:\u001b[0m\u001b[1;33m,\u001b[0m \u001b[1;33m:\u001b[0m\u001b[0mmax_encoder_length\u001b[0m\u001b[1;33m]\u001b[0m \u001b[1;32mfor\u001b[0m \u001b[0mname\u001b[0m \u001b[1;32min\u001b[0m \u001b[0mself\u001b[0m\u001b[1;33m.\u001b[0m\u001b[0mencoder_variables\u001b[0m\u001b[1;33m\u001b[0m\u001b[1;33m\u001b[0m\u001b[0m\n\u001b[0;32m    429\u001b[0m         }\n\u001b[1;32m--> 430\u001b[1;33m         embeddings_varying_encoder, encoder_sparse_weights = self.encoder_variable_selection(\n\u001b[0m\u001b[0;32m    431\u001b[0m             \u001b[0membeddings_varying_encoder\u001b[0m\u001b[1;33m,\u001b[0m\u001b[1;33m\u001b[0m\u001b[1;33m\u001b[0m\u001b[0m\n\u001b[0;32m    432\u001b[0m             \u001b[0mstatic_context_variable_selection\u001b[0m\u001b[1;33m[\u001b[0m\u001b[1;33m:\u001b[0m\u001b[1;33m,\u001b[0m \u001b[1;33m:\u001b[0m\u001b[0mmax_encoder_length\u001b[0m\u001b[1;33m]\u001b[0m\u001b[1;33m,\u001b[0m\u001b[1;33m\u001b[0m\u001b[1;33m\u001b[0m\u001b[0m\n",
            "\u001b[1;32m~\\anaconda3\\lib\\site-packages\\torch\\nn\\modules\\module.py\u001b[0m in \u001b[0;36m_call_impl\u001b[1;34m(self, *input, **kwargs)\u001b[0m\n\u001b[0;32m   1049\u001b[0m         if not (self._backward_hooks or self._forward_hooks or self._forward_pre_hooks or _global_backward_hooks\n\u001b[0;32m   1050\u001b[0m                 or _global_forward_hooks or _global_forward_pre_hooks):\n\u001b[1;32m-> 1051\u001b[1;33m             \u001b[1;32mreturn\u001b[0m \u001b[0mforward_call\u001b[0m\u001b[1;33m(\u001b[0m\u001b[1;33m*\u001b[0m\u001b[0minput\u001b[0m\u001b[1;33m,\u001b[0m \u001b[1;33m**\u001b[0m\u001b[0mkwargs\u001b[0m\u001b[1;33m)\u001b[0m\u001b[1;33m\u001b[0m\u001b[1;33m\u001b[0m\u001b[0m\n\u001b[0m\u001b[0;32m   1052\u001b[0m         \u001b[1;31m# Do not call functions when jit is used\u001b[0m\u001b[1;33m\u001b[0m\u001b[1;33m\u001b[0m\u001b[1;33m\u001b[0m\u001b[0m\n\u001b[0;32m   1053\u001b[0m         \u001b[0mfull_backward_hooks\u001b[0m\u001b[1;33m,\u001b[0m \u001b[0mnon_full_backward_hooks\u001b[0m \u001b[1;33m=\u001b[0m \u001b[1;33m[\u001b[0m\u001b[1;33m]\u001b[0m\u001b[1;33m,\u001b[0m \u001b[1;33m[\u001b[0m\u001b[1;33m]\u001b[0m\u001b[1;33m\u001b[0m\u001b[1;33m\u001b[0m\u001b[0m\n",
            "\u001b[1;32m~\\anaconda3\\lib\\site-packages\\pytorch_forecasting\\models\\temporal_fusion_transformer\\sub_modules.py\u001b[0m in \u001b[0;36mforward\u001b[1;34m(self, x, context)\u001b[0m\n\u001b[0;32m    329\u001b[0m                 \u001b[0mweight_inputs\u001b[0m\u001b[1;33m.\u001b[0m\u001b[0mappend\u001b[0m\u001b[1;33m(\u001b[0m\u001b[0mvariable_embedding\u001b[0m\u001b[1;33m)\u001b[0m\u001b[1;33m\u001b[0m\u001b[1;33m\u001b[0m\u001b[0m\n\u001b[0;32m    330\u001b[0m                 \u001b[0mvar_outputs\u001b[0m\u001b[1;33m.\u001b[0m\u001b[0mappend\u001b[0m\u001b[1;33m(\u001b[0m\u001b[0mself\u001b[0m\u001b[1;33m.\u001b[0m\u001b[0msingle_variable_grns\u001b[0m\u001b[1;33m[\u001b[0m\u001b[0mname\u001b[0m\u001b[1;33m]\u001b[0m\u001b[1;33m(\u001b[0m\u001b[0mvariable_embedding\u001b[0m\u001b[1;33m)\u001b[0m\u001b[1;33m)\u001b[0m\u001b[1;33m\u001b[0m\u001b[1;33m\u001b[0m\u001b[0m\n\u001b[1;32m--> 331\u001b[1;33m             \u001b[0mvar_outputs\u001b[0m \u001b[1;33m=\u001b[0m \u001b[0mtorch\u001b[0m\u001b[1;33m.\u001b[0m\u001b[0mstack\u001b[0m\u001b[1;33m(\u001b[0m\u001b[0mvar_outputs\u001b[0m\u001b[1;33m,\u001b[0m \u001b[0mdim\u001b[0m\u001b[1;33m=\u001b[0m\u001b[1;33m-\u001b[0m\u001b[1;36m1\u001b[0m\u001b[1;33m)\u001b[0m\u001b[1;33m\u001b[0m\u001b[1;33m\u001b[0m\u001b[0m\n\u001b[0m\u001b[0;32m    332\u001b[0m \u001b[1;33m\u001b[0m\u001b[0m\n\u001b[0;32m    333\u001b[0m             \u001b[1;31m# calculate variable weights\u001b[0m\u001b[1;33m\u001b[0m\u001b[1;33m\u001b[0m\u001b[1;33m\u001b[0m\u001b[0m\n",
            "\u001b[1;31mRuntimeError\u001b[0m: CUDA out of memory. Tried to allocate 228.00 MiB (GPU 0; 6.00 GiB total capacity; 1.39 GiB already allocated; 94.90 MiB free; 2.00 GiB reserved in total by PyTorch)"
          ]
        }
      ]
    },
    {
      "cell_type": "code",
      "metadata": {
        "id": "JstLkWEfjbFT"
      },
      "source": [
        "# save study results - also we can resume tuning at a later point in time\n",
        "with open(\"test_study_full3.pkl\", \"wb\") as fout:\n",
        "    pickle.dump(study, fout)\n",
        "\n",
        "# show best hyperparameters\n",
        "print(study.best_trial.params)"
      ],
      "execution_count": null,
      "outputs": []
    },
    {
      "cell_type": "code",
      "metadata": {
        "id": "aJaYYJU4jbFT"
      },
      "source": [
        "# #code to save the trainer and tft\n",
        "torch.save(trainer, \"trainer2\")\n",
        "torch.save(tft, \"tft2\")\n",
        "\n",
        "# #code to read back in the saved files\n",
        "# tft1 = torch.load('tft')\n",
        "# trainer1 = torch.load(\"trainer\")"
      ],
      "execution_count": null,
      "outputs": []
    },
    {
      "cell_type": "code",
      "metadata": {
        "id": "LUSCvcEZjbFT"
      },
      "source": [
        "# import pickle\n",
        "# #code that pickles tft\n",
        "# with open(\"tft2.pkl\", \"wb\") as fout:\n",
        "#     pickle.dump(tft, fout)\n",
        "    \n",
        "# #code that pickes the trainer\n",
        "# with open(\"trainer2.pkl\", \"wb\") as fout:\n",
        "#     pickle.dump(trainer, fout)\n",
        "\n"
      ],
      "execution_count": null,
      "outputs": []
    },
    {
      "cell_type": "code",
      "metadata": {
        "id": "093cDoMqjbFT"
      },
      "source": [
        "# load the best model according to the validation loss\n",
        "# (given that we use early stopping, this is not necessarily the last epoch)\n",
        "best_model_path = trainer.checkpoint_callback.best_model_path\n",
        "best_tft = TemporalFusionTransformer.load_from_checkpoint(best_model_path)"
      ],
      "execution_count": null,
      "outputs": []
    },
    {
      "cell_type": "code",
      "metadata": {
        "id": "E3uvqqAsjbFU",
        "outputId": "4383c8be-191c-4aa3-d037-615b15563224",
        "colab": {
          "referenced_widgets": [
            ""
          ]
        }
      },
      "source": [
        "# calculate mean absolute error on validation set\n",
        "actuals = torch.cat([y[0] for x, y in iter(val_dataloader)])\n",
        "predictions = best_tft.predict(val_dataloader, show_progress_bar=True)\n",
        "(actuals - predictions).abs().mean()"
      ],
      "execution_count": null,
      "outputs": [
        {
          "output_type": "display_data",
          "data": {
            "application/vnd.jupyter.widget-view+json": {
              "model_id": "",
              "version_major": 2,
              "version_minor": 0
            },
            "text/plain": [
              "HBox(children=(HTML(value='Predict'), FloatProgress(value=0.0, max=2.0), HTML(value='')))"
            ]
          },
          "metadata": {
            "tags": []
          }
        },
        {
          "output_type": "execute_result",
          "data": {
            "text/plain": [
              "tensor(1.8668)"
            ]
          },
          "metadata": {
            "tags": []
          },
          "execution_count": 37
        }
      ]
    },
    {
      "cell_type": "code",
      "metadata": {
        "id": "SJz0hgFajbFU",
        "outputId": "e8f1aa03-d5e7-4f18-9bb2-4d4f5add4a19",
        "colab": {
          "referenced_widgets": [
            "386efe8f5e9e4db08040b52bd493adb2",
            "4d733674d6184437ad963be9489ef750"
          ]
        }
      },
      "source": [
        "# calculate mean absolute error on validation set\n",
        "actuals = torch.cat([y[0] for x, y in iter(val_dataloader)])\n",
        "predictions = best_tft.predict(val_dataloader, show_progress_bar=True)\n",
        "#pr, x_pr, idx = best_model.predict(data_ts, mode=\"prediction\", return_x=True, return_index=True)\n",
        "predictions, x, idx = best_tft.predict(val_dataloader, mode='prediction', show_progress_bar=True, return_x=True, return_index=True)\n",
        "(actuals - predictions).abs().mean()"
      ],
      "execution_count": null,
      "outputs": [
        {
          "output_type": "display_data",
          "data": {
            "application/vnd.jupyter.widget-view+json": {
              "model_id": "386efe8f5e9e4db08040b52bd493adb2",
              "version_major": 2,
              "version_minor": 0
            },
            "text/plain": [
              "HBox(children=(HTML(value='Predict'), FloatProgress(value=0.0, max=2.0), HTML(value='')))"
            ]
          },
          "metadata": {
            "tags": []
          }
        },
        {
          "output_type": "stream",
          "text": [
            "\n"
          ],
          "name": "stdout"
        },
        {
          "output_type": "display_data",
          "data": {
            "application/vnd.jupyter.widget-view+json": {
              "model_id": "4d733674d6184437ad963be9489ef750",
              "version_major": 2,
              "version_minor": 0
            },
            "text/plain": [
              "HBox(children=(HTML(value='Predict'), FloatProgress(value=0.0, max=2.0), HTML(value='')))"
            ]
          },
          "metadata": {
            "tags": []
          }
        },
        {
          "output_type": "execute_result",
          "data": {
            "text/plain": [
              "tensor(1.8668)"
            ]
          },
          "metadata": {
            "tags": []
          },
          "execution_count": 38
        }
      ]
    },
    {
      "cell_type": "code",
      "metadata": {
        "id": "oVt0MTy-jbFU"
      },
      "source": [
        "# make predictions\n",
        "#res, index = tft.predict(validation, return_index=True)\n",
        "\n",
        "# turn predictions into dataframe: time_idx is at horizon=0 (first prediction)\n",
        "df_pred_before = pd.DataFrame(predictions.numpy(), index=pd.MultiIndex.from_frame(idx), columns=pd.RangeIndex(0, predictions.size(1), name=\"horizon\"))\n",
        "\n",
        "# change time_idx to correspond to each prediction\n",
        "df_pred = (\n",
        "    df_pred_before\n",
        "    .stack()\n",
        "    .reset_index([\"time_idx\", \"horizon\"])\n",
        "    .assign(time_idx=lambda x: x.time_idx + x.horizon - 1)\n",
        "    .set_index([\"time_idx\", \"horizon\"], append=True)[0]\n",
        "    .unstack(\"horizon\")\n",
        "    .add_prefix(\"prediction_at_horizon_\")\n",
        ")\n",
        "\n",
        "# add predictions to original dataframe\n",
        "original_df_with_predictions = df.join(df_pred, on=df_pred.index.names)\n"
      ],
      "execution_count": null,
      "outputs": []
    },
    {
      "cell_type": "code",
      "metadata": {
        "id": "TlISWYRNjbFU",
        "outputId": "068fdc4e-cbac-45bd-c63d-26c4606b5fea"
      },
      "source": [
        "df_pred.index.names"
      ],
      "execution_count": null,
      "outputs": [
        {
          "output_type": "execute_result",
          "data": {
            "text/plain": [
              "FrozenList(['asin', 'time_idx'])"
            ]
          },
          "metadata": {
            "tags": []
          },
          "execution_count": 66
        }
      ]
    },
    {
      "cell_type": "code",
      "metadata": {
        "id": "8Am6SWC_jbFV",
        "outputId": "9a485371-5192-4933-8daf-5ff84a84c876"
      },
      "source": [
        "df_pred_before"
      ],
      "execution_count": null,
      "outputs": [
        {
          "output_type": "execute_result",
          "data": {
            "text/html": [
              "<div>\n",
              "<style scoped>\n",
              "    .dataframe tbody tr th:only-of-type {\n",
              "        vertical-align: middle;\n",
              "    }\n",
              "\n",
              "    .dataframe tbody tr th {\n",
              "        vertical-align: top;\n",
              "    }\n",
              "\n",
              "    .dataframe thead th {\n",
              "        text-align: right;\n",
              "    }\n",
              "</style>\n",
              "<table border=\"1\" class=\"dataframe\">\n",
              "  <thead>\n",
              "    <tr style=\"text-align: right;\">\n",
              "      <th></th>\n",
              "      <th>horizon</th>\n",
              "      <th>0</th>\n",
              "      <th>1</th>\n",
              "      <th>2</th>\n",
              "    </tr>\n",
              "    <tr>\n",
              "      <th>time_idx</th>\n",
              "      <th>asin</th>\n",
              "      <th></th>\n",
              "      <th></th>\n",
              "      <th></th>\n",
              "    </tr>\n",
              "  </thead>\n",
              "  <tbody>\n",
              "    <tr>\n",
              "      <th>124</th>\n",
              "      <th>B0000AA8UL</th>\n",
              "      <td>26.447807</td>\n",
              "      <td>26.483265</td>\n",
              "      <td>26.821327</td>\n",
              "    </tr>\n",
              "    <tr>\n",
              "      <th>92</th>\n",
              "      <th>B0000AE5ZB</th>\n",
              "      <td>6.036460</td>\n",
              "      <td>6.186304</td>\n",
              "      <td>6.176657</td>\n",
              "    </tr>\n",
              "    <tr>\n",
              "      <th>87</th>\n",
              "      <th>B0000CDBQT</th>\n",
              "      <td>16.187349</td>\n",
              "      <td>16.613964</td>\n",
              "      <td>15.048189</td>\n",
              "    </tr>\n",
              "    <tr>\n",
              "      <th>48</th>\n",
              "      <th>B0000D17HA</th>\n",
              "      <td>7.172143</td>\n",
              "      <td>7.167417</td>\n",
              "      <td>7.039149</td>\n",
              "    </tr>\n",
              "    <tr>\n",
              "      <th>114</th>\n",
              "      <th>B0000DID5R</th>\n",
              "      <td>7.948804</td>\n",
              "      <td>7.959357</td>\n",
              "      <td>7.977764</td>\n",
              "    </tr>\n",
              "    <tr>\n",
              "      <th>...</th>\n",
              "      <th>...</th>\n",
              "      <td>...</td>\n",
              "      <td>...</td>\n",
              "      <td>...</td>\n",
              "    </tr>\n",
              "    <tr>\n",
              "      <th>53</th>\n",
              "      <th>B07RX3FCV7</th>\n",
              "      <td>6.586874</td>\n",
              "      <td>6.682983</td>\n",
              "      <td>6.992352</td>\n",
              "    </tr>\n",
              "    <tr>\n",
              "      <th>143</th>\n",
              "      <th>B07RYNJZYW</th>\n",
              "      <td>22.417355</td>\n",
              "      <td>22.807953</td>\n",
              "      <td>22.598183</td>\n",
              "    </tr>\n",
              "    <tr>\n",
              "      <th>108</th>\n",
              "      <th>B07RZ2TTN1</th>\n",
              "      <td>22.668793</td>\n",
              "      <td>22.415962</td>\n",
              "      <td>22.442623</td>\n",
              "    </tr>\n",
              "    <tr>\n",
              "      <th>76</th>\n",
              "      <th>B07RZ3NX7J</th>\n",
              "      <td>21.848070</td>\n",
              "      <td>21.304327</td>\n",
              "      <td>21.310368</td>\n",
              "    </tr>\n",
              "    <tr>\n",
              "      <th>85</th>\n",
              "      <th>B07S6Z9X5B</th>\n",
              "      <td>26.195789</td>\n",
              "      <td>25.729805</td>\n",
              "      <td>26.178699</td>\n",
              "    </tr>\n",
              "  </tbody>\n",
              "</table>\n",
              "<p>2560 rows × 3 columns</p>\n",
              "</div>"
            ],
            "text/plain": [
              "horizon                      0          1          2\n",
              "time_idx asin                                       \n",
              "124      B0000AA8UL  26.447807  26.483265  26.821327\n",
              "92       B0000AE5ZB   6.036460   6.186304   6.176657\n",
              "87       B0000CDBQT  16.187349  16.613964  15.048189\n",
              "48       B0000D17HA   7.172143   7.167417   7.039149\n",
              "114      B0000DID5R   7.948804   7.959357   7.977764\n",
              "...                        ...        ...        ...\n",
              "53       B07RX3FCV7   6.586874   6.682983   6.992352\n",
              "143      B07RYNJZYW  22.417355  22.807953  22.598183\n",
              "108      B07RZ2TTN1  22.668793  22.415962  22.442623\n",
              "76       B07RZ3NX7J  21.848070  21.304327  21.310368\n",
              "85       B07S6Z9X5B  26.195789  25.729805  26.178699\n",
              "\n",
              "[2560 rows x 3 columns]"
            ]
          },
          "metadata": {
            "tags": []
          },
          "execution_count": 64
        }
      ]
    },
    {
      "cell_type": "code",
      "metadata": {
        "id": "yo-H1axkjbFV"
      },
      "source": [
        "df.to_csv('fullproducts.csv')"
      ],
      "execution_count": null,
      "outputs": []
    },
    {
      "cell_type": "code",
      "metadata": {
        "id": "6xVYuhP-jbFV",
        "outputId": "0ffb962c-b0e0-4bc7-cf69-7f9d376b40f2"
      },
      "source": [
        "df_pred"
      ],
      "execution_count": null,
      "outputs": [
        {
          "output_type": "execute_result",
          "data": {
            "text/html": [
              "<div>\n",
              "<style scoped>\n",
              "    .dataframe tbody tr th:only-of-type {\n",
              "        vertical-align: middle;\n",
              "    }\n",
              "\n",
              "    .dataframe tbody tr th {\n",
              "        vertical-align: top;\n",
              "    }\n",
              "\n",
              "    .dataframe thead th {\n",
              "        text-align: right;\n",
              "    }\n",
              "</style>\n",
              "<table border=\"1\" class=\"dataframe\">\n",
              "  <thead>\n",
              "    <tr style=\"text-align: right;\">\n",
              "      <th></th>\n",
              "      <th>horizon</th>\n",
              "      <th>prediction_at_horizon_0</th>\n",
              "      <th>prediction_at_horizon_1</th>\n",
              "      <th>prediction_at_horizon_2</th>\n",
              "    </tr>\n",
              "    <tr>\n",
              "      <th>asin</th>\n",
              "      <th>time_idx</th>\n",
              "      <th></th>\n",
              "      <th></th>\n",
              "      <th></th>\n",
              "    </tr>\n",
              "  </thead>\n",
              "  <tbody>\n",
              "    <tr>\n",
              "      <th rowspan=\"3\" valign=\"top\">B0000AA8UL</th>\n",
              "      <th>123</th>\n",
              "      <td>26.447807</td>\n",
              "      <td>NaN</td>\n",
              "      <td>NaN</td>\n",
              "    </tr>\n",
              "    <tr>\n",
              "      <th>124</th>\n",
              "      <td>NaN</td>\n",
              "      <td>26.483265</td>\n",
              "      <td>NaN</td>\n",
              "    </tr>\n",
              "    <tr>\n",
              "      <th>125</th>\n",
              "      <td>NaN</td>\n",
              "      <td>NaN</td>\n",
              "      <td>26.821327</td>\n",
              "    </tr>\n",
              "    <tr>\n",
              "      <th rowspan=\"2\" valign=\"top\">B0000AE5ZB</th>\n",
              "      <th>91</th>\n",
              "      <td>6.036460</td>\n",
              "      <td>NaN</td>\n",
              "      <td>NaN</td>\n",
              "    </tr>\n",
              "    <tr>\n",
              "      <th>92</th>\n",
              "      <td>NaN</td>\n",
              "      <td>6.186304</td>\n",
              "      <td>NaN</td>\n",
              "    </tr>\n",
              "    <tr>\n",
              "      <th>...</th>\n",
              "      <th>...</th>\n",
              "      <td>...</td>\n",
              "      <td>...</td>\n",
              "      <td>...</td>\n",
              "    </tr>\n",
              "    <tr>\n",
              "      <th rowspan=\"2\" valign=\"top\">B07RZ3NX7J</th>\n",
              "      <th>76</th>\n",
              "      <td>NaN</td>\n",
              "      <td>21.304327</td>\n",
              "      <td>NaN</td>\n",
              "    </tr>\n",
              "    <tr>\n",
              "      <th>77</th>\n",
              "      <td>NaN</td>\n",
              "      <td>NaN</td>\n",
              "      <td>21.310368</td>\n",
              "    </tr>\n",
              "    <tr>\n",
              "      <th rowspan=\"3\" valign=\"top\">B07S6Z9X5B</th>\n",
              "      <th>84</th>\n",
              "      <td>26.195789</td>\n",
              "      <td>NaN</td>\n",
              "      <td>NaN</td>\n",
              "    </tr>\n",
              "    <tr>\n",
              "      <th>85</th>\n",
              "      <td>NaN</td>\n",
              "      <td>25.729805</td>\n",
              "      <td>NaN</td>\n",
              "    </tr>\n",
              "    <tr>\n",
              "      <th>86</th>\n",
              "      <td>NaN</td>\n",
              "      <td>NaN</td>\n",
              "      <td>26.178699</td>\n",
              "    </tr>\n",
              "  </tbody>\n",
              "</table>\n",
              "<p>7680 rows × 3 columns</p>\n",
              "</div>"
            ],
            "text/plain": [
              "horizon              prediction_at_horizon_0  prediction_at_horizon_1  \\\n",
              "asin       time_idx                                                     \n",
              "B0000AA8UL 123                     26.447807                      NaN   \n",
              "           124                           NaN                26.483265   \n",
              "           125                           NaN                      NaN   \n",
              "B0000AE5ZB 91                       6.036460                      NaN   \n",
              "           92                            NaN                 6.186304   \n",
              "...                                      ...                      ...   \n",
              "B07RZ3NX7J 76                            NaN                21.304327   \n",
              "           77                            NaN                      NaN   \n",
              "B07S6Z9X5B 84                      26.195789                      NaN   \n",
              "           85                            NaN                25.729805   \n",
              "           86                            NaN                      NaN   \n",
              "\n",
              "horizon              prediction_at_horizon_2  \n",
              "asin       time_idx                           \n",
              "B0000AA8UL 123                           NaN  \n",
              "           124                           NaN  \n",
              "           125                     26.821327  \n",
              "B0000AE5ZB 91                            NaN  \n",
              "           92                            NaN  \n",
              "...                                      ...  \n",
              "B07RZ3NX7J 76                            NaN  \n",
              "           77                      21.310368  \n",
              "B07S6Z9X5B 84                            NaN  \n",
              "           85                            NaN  \n",
              "           86                      26.178699  \n",
              "\n",
              "[7680 rows x 3 columns]"
            ]
          },
          "metadata": {
            "tags": []
          },
          "execution_count": 55
        }
      ]
    },
    {
      "cell_type": "code",
      "metadata": {
        "id": "LGIU8V4kjbFV",
        "outputId": "c8e6ac0a-9828-4ef8-aac0-82d92cf0c2a8"
      },
      "source": [
        "df_pred.info()"
      ],
      "execution_count": null,
      "outputs": [
        {
          "output_type": "stream",
          "text": [
            "<class 'pandas.core.frame.DataFrame'>\n",
            "MultiIndex: 7680 entries, ('B0000AA8UL', 123) to ('B07S6Z9X5B', 86)\n",
            "Data columns (total 3 columns):\n",
            " #   Column                   Non-Null Count  Dtype  \n",
            "---  ------                   --------------  -----  \n",
            " 0   prediction_at_horizon_0  2560 non-null   float32\n",
            " 1   prediction_at_horizon_1  2560 non-null   float32\n",
            " 2   prediction_at_horizon_2  2560 non-null   float32\n",
            "dtypes: float32(3)\n",
            "memory usage: 232.6+ KB\n"
          ],
          "name": "stdout"
        }
      ]
    },
    {
      "cell_type": "code",
      "metadata": {
        "id": "UtyWLqmXjbFW",
        "outputId": "907fcde5-6d4a-44ab-d2b1-9a394bc0db29"
      },
      "source": [
        "original_df_with_predictions"
      ],
      "execution_count": null,
      "outputs": [
        {
          "output_type": "execute_result",
          "data": {
            "text/html": [
              "<div>\n",
              "<style scoped>\n",
              "    .dataframe tbody tr th:only-of-type {\n",
              "        vertical-align: middle;\n",
              "    }\n",
              "\n",
              "    .dataframe tbody tr th {\n",
              "        vertical-align: top;\n",
              "    }\n",
              "\n",
              "    .dataframe thead th {\n",
              "        text-align: right;\n",
              "    }\n",
              "</style>\n",
              "<table border=\"1\" class=\"dataframe\">\n",
              "  <thead>\n",
              "    <tr style=\"text-align: right;\">\n",
              "      <th></th>\n",
              "      <th>asin</th>\n",
              "      <th>date</th>\n",
              "      <th>sales_rank</th>\n",
              "      <th>count_new</th>\n",
              "      <th>buy_box_shipping</th>\n",
              "      <th>time_idx</th>\n",
              "      <th>month</th>\n",
              "      <th>prediction_at_horizon_0</th>\n",
              "      <th>prediction_at_horizon_1</th>\n",
              "      <th>prediction_at_horizon_2</th>\n",
              "    </tr>\n",
              "  </thead>\n",
              "  <tbody>\n",
              "    <tr>\n",
              "      <th>284</th>\n",
              "      <td>B0000AA8UL</td>\n",
              "      <td>2020-06-21</td>\n",
              "      <td>5338.000000</td>\n",
              "      <td>7.0</td>\n",
              "      <td>26.30</td>\n",
              "      <td>0</td>\n",
              "      <td>6</td>\n",
              "      <td>NaN</td>\n",
              "      <td>NaN</td>\n",
              "      <td>NaN</td>\n",
              "    </tr>\n",
              "    <tr>\n",
              "      <th>285</th>\n",
              "      <td>B0000AA8UL</td>\n",
              "      <td>2020-06-25</td>\n",
              "      <td>5540.250000</td>\n",
              "      <td>8.5</td>\n",
              "      <td>26.10</td>\n",
              "      <td>0</td>\n",
              "      <td>6</td>\n",
              "      <td>NaN</td>\n",
              "      <td>NaN</td>\n",
              "      <td>NaN</td>\n",
              "    </tr>\n",
              "    <tr>\n",
              "      <th>286</th>\n",
              "      <td>B0000AA8UL</td>\n",
              "      <td>2020-06-26</td>\n",
              "      <td>5309.666667</td>\n",
              "      <td>10.0</td>\n",
              "      <td>26.30</td>\n",
              "      <td>0</td>\n",
              "      <td>6</td>\n",
              "      <td>NaN</td>\n",
              "      <td>NaN</td>\n",
              "      <td>NaN</td>\n",
              "    </tr>\n",
              "    <tr>\n",
              "      <th>287</th>\n",
              "      <td>B0000AA8UL</td>\n",
              "      <td>2020-06-27</td>\n",
              "      <td>5450.000000</td>\n",
              "      <td>9.0</td>\n",
              "      <td>26.10</td>\n",
              "      <td>0</td>\n",
              "      <td>6</td>\n",
              "      <td>NaN</td>\n",
              "      <td>NaN</td>\n",
              "      <td>NaN</td>\n",
              "    </tr>\n",
              "    <tr>\n",
              "      <th>288</th>\n",
              "      <td>B0000AA8UL</td>\n",
              "      <td>2020-07-16</td>\n",
              "      <td>6406.500000</td>\n",
              "      <td>8.5</td>\n",
              "      <td>26.81</td>\n",
              "      <td>1</td>\n",
              "      <td>7</td>\n",
              "      <td>NaN</td>\n",
              "      <td>NaN</td>\n",
              "      <td>NaN</td>\n",
              "    </tr>\n",
              "    <tr>\n",
              "      <th>...</th>\n",
              "      <td>...</td>\n",
              "      <td>...</td>\n",
              "      <td>...</td>\n",
              "      <td>...</td>\n",
              "      <td>...</td>\n",
              "      <td>...</td>\n",
              "      <td>...</td>\n",
              "      <td>...</td>\n",
              "      <td>...</td>\n",
              "      <td>...</td>\n",
              "    </tr>\n",
              "    <tr>\n",
              "      <th>782963</th>\n",
              "      <td>B08B5L46HD</td>\n",
              "      <td>2021-05-30</td>\n",
              "      <td>15422.500000</td>\n",
              "      <td>9.0</td>\n",
              "      <td>18.47</td>\n",
              "      <td>11</td>\n",
              "      <td>5</td>\n",
              "      <td>NaN</td>\n",
              "      <td>NaN</td>\n",
              "      <td>NaN</td>\n",
              "    </tr>\n",
              "    <tr>\n",
              "      <th>782964</th>\n",
              "      <td>B08B5L46HD</td>\n",
              "      <td>2021-06-01</td>\n",
              "      <td>11379.375000</td>\n",
              "      <td>10.5</td>\n",
              "      <td>18.45</td>\n",
              "      <td>12</td>\n",
              "      <td>6</td>\n",
              "      <td>NaN</td>\n",
              "      <td>NaN</td>\n",
              "      <td>NaN</td>\n",
              "    </tr>\n",
              "    <tr>\n",
              "      <th>782965</th>\n",
              "      <td>B08B5L46HD</td>\n",
              "      <td>2021-06-03</td>\n",
              "      <td>11204.200000</td>\n",
              "      <td>10.0</td>\n",
              "      <td>18.16</td>\n",
              "      <td>12</td>\n",
              "      <td>6</td>\n",
              "      <td>NaN</td>\n",
              "      <td>NaN</td>\n",
              "      <td>NaN</td>\n",
              "    </tr>\n",
              "    <tr>\n",
              "      <th>782966</th>\n",
              "      <td>B08B5L46HD</td>\n",
              "      <td>2021-06-04</td>\n",
              "      <td>11921.125000</td>\n",
              "      <td>9.5</td>\n",
              "      <td>18.45</td>\n",
              "      <td>12</td>\n",
              "      <td>6</td>\n",
              "      <td>NaN</td>\n",
              "      <td>NaN</td>\n",
              "      <td>NaN</td>\n",
              "    </tr>\n",
              "    <tr>\n",
              "      <th>782967</th>\n",
              "      <td>B08B5L46HD</td>\n",
              "      <td>2021-06-11</td>\n",
              "      <td>11637.714286</td>\n",
              "      <td>11.0</td>\n",
              "      <td>18.48</td>\n",
              "      <td>12</td>\n",
              "      <td>6</td>\n",
              "      <td>NaN</td>\n",
              "      <td>NaN</td>\n",
              "      <td>NaN</td>\n",
              "    </tr>\n",
              "  </tbody>\n",
              "</table>\n",
              "<p>346509 rows × 10 columns</p>\n",
              "</div>"
            ],
            "text/plain": [
              "              asin       date    sales_rank  count_new  buy_box_shipping  \\\n",
              "284     B0000AA8UL 2020-06-21   5338.000000        7.0             26.30   \n",
              "285     B0000AA8UL 2020-06-25   5540.250000        8.5             26.10   \n",
              "286     B0000AA8UL 2020-06-26   5309.666667       10.0             26.30   \n",
              "287     B0000AA8UL 2020-06-27   5450.000000        9.0             26.10   \n",
              "288     B0000AA8UL 2020-07-16   6406.500000        8.5             26.81   \n",
              "...            ...        ...           ...        ...               ...   \n",
              "782963  B08B5L46HD 2021-05-30  15422.500000        9.0             18.47   \n",
              "782964  B08B5L46HD 2021-06-01  11379.375000       10.5             18.45   \n",
              "782965  B08B5L46HD 2021-06-03  11204.200000       10.0             18.16   \n",
              "782966  B08B5L46HD 2021-06-04  11921.125000        9.5             18.45   \n",
              "782967  B08B5L46HD 2021-06-11  11637.714286       11.0             18.48   \n",
              "\n",
              "        time_idx month  prediction_at_horizon_0  prediction_at_horizon_1  \\\n",
              "284            0     6                      NaN                      NaN   \n",
              "285            0     6                      NaN                      NaN   \n",
              "286            0     6                      NaN                      NaN   \n",
              "287            0     6                      NaN                      NaN   \n",
              "288            1     7                      NaN                      NaN   \n",
              "...          ...   ...                      ...                      ...   \n",
              "782963        11     5                      NaN                      NaN   \n",
              "782964        12     6                      NaN                      NaN   \n",
              "782965        12     6                      NaN                      NaN   \n",
              "782966        12     6                      NaN                      NaN   \n",
              "782967        12     6                      NaN                      NaN   \n",
              "\n",
              "        prediction_at_horizon_2  \n",
              "284                         NaN  \n",
              "285                         NaN  \n",
              "286                         NaN  \n",
              "287                         NaN  \n",
              "288                         NaN  \n",
              "...                         ...  \n",
              "782963                      NaN  \n",
              "782964                      NaN  \n",
              "782965                      NaN  \n",
              "782966                      NaN  \n",
              "782967                      NaN  \n",
              "\n",
              "[346509 rows x 10 columns]"
            ]
          },
          "metadata": {
            "tags": []
          },
          "execution_count": 67
        }
      ]
    },
    {
      "cell_type": "code",
      "metadata": {
        "id": "e1Jpx719jbFW",
        "outputId": "d971b3e4-975a-4f22-ac84-33c4f504ac52"
      },
      "source": [
        "original_df_with_predictions.info()"
      ],
      "execution_count": null,
      "outputs": [
        {
          "output_type": "stream",
          "text": [
            "<class 'pandas.core.frame.DataFrame'>\n",
            "Int64Index: 346509 entries, 284 to 782967\n",
            "Data columns (total 10 columns):\n",
            " #   Column                   Non-Null Count   Dtype         \n",
            "---  ------                   --------------   -----         \n",
            " 0   asin                     346509 non-null  object        \n",
            " 1   date                     346509 non-null  datetime64[ns]\n",
            " 2   sales_rank               346509 non-null  float64       \n",
            " 3   count_new                346509 non-null  float64       \n",
            " 4   buy_box_shipping         346509 non-null  float64       \n",
            " 5   time_idx                 346509 non-null  int8          \n",
            " 6   month                    346509 non-null  category      \n",
            " 7   prediction_at_horizon_0  0 non-null       float32       \n",
            " 8   prediction_at_horizon_1  0 non-null       float32       \n",
            " 9   prediction_at_horizon_2  0 non-null       float32       \n",
            "dtypes: category(1), datetime64[ns](1), float32(3), float64(3), int8(1), object(1)\n",
            "memory usage: 30.5+ MB\n"
          ],
          "name": "stdout"
        }
      ]
    },
    {
      "cell_type": "code",
      "metadata": {
        "id": "l8PUPcY4jbFW",
        "outputId": "6108b774-460c-4e8b-e21f-ed689cceb89f"
      },
      "source": [
        "prediction_df=pd.DataFrame()\n",
        "prediction_df[\"prediction\"] = predictions[:, 0]\n",
        "prediction_df\n"
      ],
      "execution_count": null,
      "outputs": [
        {
          "output_type": "execute_result",
          "data": {
            "text/html": [
              "<div>\n",
              "<style scoped>\n",
              "    .dataframe tbody tr th:only-of-type {\n",
              "        vertical-align: middle;\n",
              "    }\n",
              "\n",
              "    .dataframe tbody tr th {\n",
              "        vertical-align: top;\n",
              "    }\n",
              "\n",
              "    .dataframe thead th {\n",
              "        text-align: right;\n",
              "    }\n",
              "</style>\n",
              "<table border=\"1\" class=\"dataframe\">\n",
              "  <thead>\n",
              "    <tr style=\"text-align: right;\">\n",
              "      <th></th>\n",
              "      <th>prediction</th>\n",
              "    </tr>\n",
              "  </thead>\n",
              "  <tbody>\n",
              "    <tr>\n",
              "      <th>0</th>\n",
              "      <td>26.447807</td>\n",
              "    </tr>\n",
              "    <tr>\n",
              "      <th>1</th>\n",
              "      <td>6.036460</td>\n",
              "    </tr>\n",
              "    <tr>\n",
              "      <th>2</th>\n",
              "      <td>16.187349</td>\n",
              "    </tr>\n",
              "    <tr>\n",
              "      <th>3</th>\n",
              "      <td>7.172143</td>\n",
              "    </tr>\n",
              "    <tr>\n",
              "      <th>4</th>\n",
              "      <td>7.948804</td>\n",
              "    </tr>\n",
              "    <tr>\n",
              "      <th>...</th>\n",
              "      <td>...</td>\n",
              "    </tr>\n",
              "    <tr>\n",
              "      <th>2555</th>\n",
              "      <td>6.586874</td>\n",
              "    </tr>\n",
              "    <tr>\n",
              "      <th>2556</th>\n",
              "      <td>22.417355</td>\n",
              "    </tr>\n",
              "    <tr>\n",
              "      <th>2557</th>\n",
              "      <td>22.668793</td>\n",
              "    </tr>\n",
              "    <tr>\n",
              "      <th>2558</th>\n",
              "      <td>21.848070</td>\n",
              "    </tr>\n",
              "    <tr>\n",
              "      <th>2559</th>\n",
              "      <td>26.195789</td>\n",
              "    </tr>\n",
              "  </tbody>\n",
              "</table>\n",
              "<p>2560 rows × 1 columns</p>\n",
              "</div>"
            ],
            "text/plain": [
              "      prediction\n",
              "0      26.447807\n",
              "1       6.036460\n",
              "2      16.187349\n",
              "3       7.172143\n",
              "4       7.948804\n",
              "...          ...\n",
              "2555    6.586874\n",
              "2556   22.417355\n",
              "2557   22.668793\n",
              "2558   21.848070\n",
              "2559   26.195789\n",
              "\n",
              "[2560 rows x 1 columns]"
            ]
          },
          "metadata": {
            "tags": []
          },
          "execution_count": 46
        }
      ]
    },
    {
      "cell_type": "code",
      "metadata": {
        "id": "XHdqHrfKjbFW",
        "outputId": "f5b98f86-ce68-4b5c-a87f-1b0f554e5a01"
      },
      "source": [
        "predictions"
      ],
      "execution_count": null,
      "outputs": [
        {
          "output_type": "execute_result",
          "data": {
            "text/plain": [
              "tensor([[26.4478, 26.4833, 26.8213],\n",
              "        [ 6.0365,  6.1863,  6.1767],\n",
              "        [16.1873, 16.6140, 15.0482],\n",
              "        ...,\n",
              "        [22.6688, 22.4160, 22.4426],\n",
              "        [21.8481, 21.3043, 21.3104],\n",
              "        [26.1958, 25.7298, 26.1787]])"
            ]
          },
          "metadata": {
            "tags": []
          },
          "execution_count": 49
        }
      ]
    },
    {
      "cell_type": "code",
      "metadata": {
        "id": "lqnGWHuyjbFX",
        "outputId": "019667a2-f09a-4fb5-9ef3-d988cea6132c"
      },
      "source": [
        "predictions.shape"
      ],
      "execution_count": null,
      "outputs": [
        {
          "output_type": "execute_result",
          "data": {
            "text/plain": [
              "torch.Size([2560, 3])"
            ]
          },
          "metadata": {
            "tags": []
          },
          "execution_count": 40
        }
      ]
    },
    {
      "cell_type": "code",
      "metadata": {
        "id": "iJCx5-cMjbFX",
        "outputId": "c8a126e4-225f-45ca-d89a-0757b18f1ede"
      },
      "source": [
        "idx"
      ],
      "execution_count": null,
      "outputs": [
        {
          "output_type": "execute_result",
          "data": {
            "text/html": [
              "<div>\n",
              "<style scoped>\n",
              "    .dataframe tbody tr th:only-of-type {\n",
              "        vertical-align: middle;\n",
              "    }\n",
              "\n",
              "    .dataframe tbody tr th {\n",
              "        vertical-align: top;\n",
              "    }\n",
              "\n",
              "    .dataframe thead th {\n",
              "        text-align: right;\n",
              "    }\n",
              "</style>\n",
              "<table border=\"1\" class=\"dataframe\">\n",
              "  <thead>\n",
              "    <tr style=\"text-align: right;\">\n",
              "      <th></th>\n",
              "      <th>time_idx</th>\n",
              "      <th>asin</th>\n",
              "    </tr>\n",
              "  </thead>\n",
              "  <tbody>\n",
              "    <tr>\n",
              "      <th>0</th>\n",
              "      <td>124</td>\n",
              "      <td>B0000AA8UL</td>\n",
              "    </tr>\n",
              "    <tr>\n",
              "      <th>1</th>\n",
              "      <td>92</td>\n",
              "      <td>B0000AE5ZB</td>\n",
              "    </tr>\n",
              "    <tr>\n",
              "      <th>2</th>\n",
              "      <td>87</td>\n",
              "      <td>B0000CDBQT</td>\n",
              "    </tr>\n",
              "    <tr>\n",
              "      <th>3</th>\n",
              "      <td>48</td>\n",
              "      <td>B0000D17HA</td>\n",
              "    </tr>\n",
              "    <tr>\n",
              "      <th>4</th>\n",
              "      <td>114</td>\n",
              "      <td>B0000DID5R</td>\n",
              "    </tr>\n",
              "    <tr>\n",
              "      <th>...</th>\n",
              "      <td>...</td>\n",
              "      <td>...</td>\n",
              "    </tr>\n",
              "    <tr>\n",
              "      <th>2555</th>\n",
              "      <td>53</td>\n",
              "      <td>B07RX3FCV7</td>\n",
              "    </tr>\n",
              "    <tr>\n",
              "      <th>2556</th>\n",
              "      <td>143</td>\n",
              "      <td>B07RYNJZYW</td>\n",
              "    </tr>\n",
              "    <tr>\n",
              "      <th>2557</th>\n",
              "      <td>108</td>\n",
              "      <td>B07RZ2TTN1</td>\n",
              "    </tr>\n",
              "    <tr>\n",
              "      <th>2558</th>\n",
              "      <td>76</td>\n",
              "      <td>B07RZ3NX7J</td>\n",
              "    </tr>\n",
              "    <tr>\n",
              "      <th>2559</th>\n",
              "      <td>85</td>\n",
              "      <td>B07S6Z9X5B</td>\n",
              "    </tr>\n",
              "  </tbody>\n",
              "</table>\n",
              "<p>2560 rows × 2 columns</p>\n",
              "</div>"
            ],
            "text/plain": [
              "      time_idx        asin\n",
              "0          124  B0000AA8UL\n",
              "1           92  B0000AE5ZB\n",
              "2           87  B0000CDBQT\n",
              "3           48  B0000D17HA\n",
              "4          114  B0000DID5R\n",
              "...        ...         ...\n",
              "2555        53  B07RX3FCV7\n",
              "2556       143  B07RYNJZYW\n",
              "2557       108  B07RZ2TTN1\n",
              "2558        76  B07RZ3NX7J\n",
              "2559        85  B07S6Z9X5B\n",
              "\n",
              "[2560 rows x 2 columns]"
            ]
          },
          "metadata": {
            "tags": []
          },
          "execution_count": 41
        }
      ]
    },
    {
      "cell_type": "code",
      "metadata": {
        "id": "I78POCw7jbFX",
        "outputId": "0561d602-b1c9-4f6c-e26c-b5b3b062d8c1"
      },
      "source": [
        "x"
      ],
      "execution_count": null,
      "outputs": [
        {
          "output_type": "execute_result",
          "data": {
            "text/plain": [
              "{'encoder_cat': tensor([[[1.0000e+00, 7.0000e+00],\n",
              "          [1.0000e+00, 7.0000e+00],\n",
              "          [1.0000e+00, 7.0000e+00],\n",
              "          ...,\n",
              "          [       nan,        nan],\n",
              "          [       nan,        nan],\n",
              "          [       nan,        nan]],\n",
              " \n",
              "         [[2.0000e+00, 7.0000e+00],\n",
              "          [2.0000e+00, 7.0000e+00],\n",
              "          [2.0000e+00, 7.0000e+00],\n",
              "          ...,\n",
              "          [       nan,        nan],\n",
              "          [       nan,        nan],\n",
              "          [       nan,        nan]],\n",
              " \n",
              "         [[3.0000e+00, 7.0000e+00],\n",
              "          [3.0000e+00, 7.0000e+00],\n",
              "          [3.0000e+00, 7.0000e+00],\n",
              "          ...,\n",
              "          [       nan,        nan],\n",
              "          [       nan,        nan],\n",
              "          [       nan,        nan]],\n",
              " \n",
              "         ...,\n",
              " \n",
              "         [[2.5580e+03, 7.0000e+00],\n",
              "          [2.5580e+03, 7.0000e+00],\n",
              "          [2.5580e+03, 7.0000e+00],\n",
              "          ...,\n",
              "          [0.0000e+00, 0.0000e+00],\n",
              "          [0.0000e+00, 0.0000e+00],\n",
              "          [0.0000e+00, 0.0000e+00]],\n",
              " \n",
              "         [[2.5590e+03, 7.0000e+00],\n",
              "          [2.5590e+03, 7.0000e+00],\n",
              "          [2.5590e+03, 7.0000e+00],\n",
              "          ...,\n",
              "          [0.0000e+00, 0.0000e+00],\n",
              "          [0.0000e+00, 0.0000e+00],\n",
              "          [0.0000e+00, 0.0000e+00]],\n",
              " \n",
              "         [[2.5600e+03, 7.0000e+00],\n",
              "          [2.5600e+03, 7.0000e+00],\n",
              "          [2.5600e+03, 7.0000e+00],\n",
              "          ...,\n",
              "          [0.0000e+00, 0.0000e+00],\n",
              "          [0.0000e+00, 0.0000e+00],\n",
              "          [0.0000e+00, 0.0000e+00]]]),\n",
              " 'encoder_cont': tensor([[[ 23.8000,   0.7355,  -0.5355,  ...,  -0.6131, -12.4000,  -1.1673],\n",
              "          [ 23.8000,   0.7355,  -0.5355,  ...,  -0.4667, -12.3000,  -1.3037],\n",
              "          [ 23.8000,   0.7355,  -0.5355,  ...,  -0.3203, -12.2000,  -1.1673],\n",
              "          ...,\n",
              "          [     nan,      nan,      nan,  ...,      nan,      nan,      nan],\n",
              "          [     nan,      nan,      nan,  ...,      nan,      nan,      nan],\n",
              "          [     nan,      nan,      nan,  ...,      nan,      nan,      nan]],\n",
              " \n",
              "         [[ 17.4000,  -1.1540,  -0.7232,  ...,  -0.3203,  -9.2000,  -0.9769],\n",
              "          [ 17.4000,  -1.1540,  -0.7232,  ...,  -0.2227,  -9.1000,  -0.9857],\n",
              "          [ 17.4000,  -1.1540,  -0.7232,  ...,  -0.3203,  -9.0000,  -0.9726],\n",
              "          ...,\n",
              "          [     nan,      nan,      nan,  ...,      nan,      nan,      nan],\n",
              "          [     nan,      nan,      nan,  ...,      nan,      nan,      nan],\n",
              "          [     nan,      nan,      nan,  ...,      nan,      nan,      nan]],\n",
              " \n",
              "         [[ 16.4000,  -0.3236,   0.3915,  ...,  -0.8083,  -8.7000,   0.2919],\n",
              "          [ 16.4000,  -0.3236,   0.3915,  ...,  -0.9059,  -8.6000,   0.2984],\n",
              "          [ 16.4000,  -0.3236,   0.3915,  ...,  -0.7107,  -8.5000,  -0.6354],\n",
              "          ...,\n",
              "          [     nan,      nan,      nan,  ...,      nan,      nan,      nan],\n",
              "          [     nan,      nan,      nan,  ...,      nan,      nan,      nan],\n",
              "          [     nan,      nan,      nan,  ...,      nan,      nan,      nan]],\n",
              " \n",
              "         ...,\n",
              " \n",
              "         [[ 20.6000,   0.5554,   0.3263,  ...,  -1.1987, -10.8000,   1.9797],\n",
              "          [ 20.6000,   0.5554,   0.3263,  ...,  -1.1499, -10.7000,   2.2848],\n",
              "          [ 20.6000,   0.5554,   0.3263,  ...,  -1.0035, -10.6000,   1.2680],\n",
              "          ...,\n",
              "          [  0.0000,   0.0000,   0.0000,  ...,   0.0000,   0.0000,   0.0000],\n",
              "          [  0.0000,   0.0000,   0.0000,  ...,   0.0000,   0.0000,   0.0000],\n",
              "          [  0.0000,   0.0000,   0.0000,  ...,   0.0000,   0.0000,   0.0000]],\n",
              " \n",
              "         [[ 14.2000,  -0.3221,  -0.0702,  ...,  -0.2227,  -7.6000,  -0.6520],\n",
              "          [ 14.2000,  -0.3221,  -0.0702,  ...,  -0.0923,  -7.5000,  -0.5038],\n",
              "          [ 14.2000,  -0.3221,  -0.0702,  ...,  -0.0763,  -7.4000,  -0.6229],\n",
              "          ...,\n",
              "          [  0.0000,   0.0000,   0.0000,  ...,   0.0000,   0.0000,   0.0000],\n",
              "          [  0.0000,   0.0000,   0.0000,  ...,   0.0000,   0.0000,   0.0000],\n",
              "          [  0.0000,   0.0000,   0.0000,  ...,   0.0000,   0.0000,   0.0000]],\n",
              " \n",
              "         [[ 16.0000,   1.1612,   2.0292,  ...,  -1.1011,  -8.5000,   1.8593],\n",
              "          [ 16.0000,   1.1612,   2.0292,  ...,  -1.1987,  -8.4000,   2.4031],\n",
              "          [ 16.0000,   1.1612,   2.0292,  ...,  -1.1011,  -8.3000,   2.0632],\n",
              "          ...,\n",
              "          [  0.0000,   0.0000,   0.0000,  ...,   0.0000,   0.0000,   0.0000],\n",
              "          [  0.0000,   0.0000,   0.0000,  ...,   0.0000,   0.0000,   0.0000],\n",
              "          [  0.0000,   0.0000,   0.0000,  ...,   0.0000,   0.0000,   0.0000]]]),\n",
              " 'encoder_target': tensor([[26.3000, 26.1000, 26.3000,  ...,     nan,     nan,     nan],\n",
              "         [ 5.3700,  5.3600,  5.3750,  ...,     nan,     nan,     nan],\n",
              "         [16.8400, 16.8600, 14.0000,  ...,     nan,     nan,     nan],\n",
              "         ...,\n",
              "         [31.8000, 32.7000, 29.7000,  ...,  0.0000,  0.0000,  0.0000],\n",
              "         [14.4840, 14.8200, 14.5500,  ...,  0.0000,  0.0000,  0.0000],\n",
              "         [43.8000, 47.0000, 45.0000,  ...,  0.0000,  0.0000,  0.0000]]),\n",
              " 'encoder_lengths': tensor([124,  92,  87,  ..., 108,  76,  85]),\n",
              " 'decoder_cat': tensor([[[   1,    0],\n",
              "          [   1,    0],\n",
              "          [   1,    7]],\n",
              " \n",
              "         [[   2,    0],\n",
              "          [   2,    0],\n",
              "          [   2,    7]],\n",
              " \n",
              "         [[   3,    0],\n",
              "          [   3,    0],\n",
              "          [   3,    7]],\n",
              " \n",
              "         ...,\n",
              " \n",
              "         [[2558,    0],\n",
              "          [2558,    0],\n",
              "          [2558,    7]],\n",
              " \n",
              "         [[2559,    0],\n",
              "          [2559,    0],\n",
              "          [2559,    7]],\n",
              " \n",
              "         [[2560,    0],\n",
              "          [2560,    0],\n",
              "          [2560,    7]]]),\n",
              " 'decoder_cont': tensor([[[ 2.3800e+01,  7.3550e-01, -5.3554e-01,  ..., -2.7505e-02,\n",
              "            0.0000e+00, -8.2610e-01],\n",
              "          [ 2.3800e+01,  7.3550e-01, -5.3554e-01,  ..., -1.2510e-01,\n",
              "            1.0000e-01, -9.3528e-01],\n",
              "          [ 2.3800e+01,  7.3550e-01, -5.3554e-01,  ..., -3.6910e-01,\n",
              "            2.0000e-01, -1.0285e-01]],\n",
              " \n",
              "         [[ 1.7400e+01, -1.1540e+00, -7.2321e-01,  ...,  1.6769e-01,\n",
              "            0.0000e+00, -6.0312e-01],\n",
              "          [ 1.7400e+01, -1.1540e+00, -7.2321e-01,  ...,  2.1294e-02,\n",
              "            1.0000e-01, -7.3181e-01],\n",
              "          [ 1.7400e+01, -1.1540e+00, -7.2321e-01,  ...,  2.1649e-01,\n",
              "            2.0000e-01, -3.7288e-01]],\n",
              " \n",
              "         [[ 1.6400e+01, -3.2357e-01,  3.9145e-01,  ..., -9.0588e-01,\n",
              "            0.0000e+00,  2.1682e-01],\n",
              "          [ 1.6400e+01, -3.2357e-01,  3.9145e-01,  ..., -8.0829e-01,\n",
              "            1.0000e-01,  1.0580e-01],\n",
              "          [ 1.6400e+01, -3.2357e-01,  3.9145e-01,  ..., -7.1069e-01,\n",
              "            2.0000e-01, -3.8072e-01]],\n",
              " \n",
              "         ...,\n",
              " \n",
              "         [[ 2.0600e+01,  5.5539e-01,  3.2634e-01,  ...,  3.1409e-01,\n",
              "            0.0000e+00, -6.9787e-01],\n",
              "          [ 2.0600e+01,  5.5539e-01,  3.2634e-01,  ...,  5.5808e-01,\n",
              "            1.0000e-01, -7.3854e-01],\n",
              "          [ 2.0600e+01,  5.5539e-01,  3.2634e-01,  ...,  5.5808e-01,\n",
              "            2.0000e-01, -7.4871e-01]],\n",
              " \n",
              "         [[ 1.4200e+01, -3.2214e-01, -7.0201e-02,  ..., -4.6669e-01,\n",
              "            0.0000e+00,  1.8250e+00],\n",
              "          [ 1.4200e+01, -3.2214e-01, -7.0201e-02,  ..., -2.2270e-01,\n",
              "            1.0000e-01,  1.7721e+00],\n",
              "          [ 1.4200e+01, -3.2214e-01, -7.0201e-02,  ..., -3.2030e-01,\n",
              "            2.0000e-01, -1.0242e+00]],\n",
              " \n",
              "         [[ 1.6000e+01,  1.1612e+00,  2.0292e+00,  ..., -6.1309e-01,\n",
              "            0.0000e+00, -9.9932e-01],\n",
              "          [ 1.6000e+01,  1.1612e+00,  2.0292e+00,  ..., -4.8270e-01,\n",
              "            1.0000e-01, -1.0537e+00],\n",
              "          [ 1.6000e+01,  1.1612e+00,  2.0292e+00,  ..., -4.1790e-01,\n",
              "            2.0000e-01, -9.2964e-01]]]),\n",
              " 'decoder_target': tensor([[26.8000, 26.6400, 27.8600],\n",
              "         [ 5.7970,  5.6500,  6.0600],\n",
              "         [16.6100, 16.2700, 14.7800],\n",
              "         ...,\n",
              "         [23.9000, 23.7800, 23.7500],\n",
              "         [20.1000, 19.9800, 13.6400],\n",
              "         [26.9800, 26.6600, 27.3900]]),\n",
              " 'decoder_lengths': tensor([3, 3, 3,  ..., 3, 3, 3]),\n",
              " 'decoder_time_idx': tensor([[124, 125, 126],\n",
              "         [ 92,  93,  94],\n",
              "         [ 87,  88,  89],\n",
              "         ...,\n",
              "         [108, 109, 110],\n",
              "         [ 76,  77,  78],\n",
              "         [ 85,  86,  87]]),\n",
              " 'groups': tensor([[   0],\n",
              "         [   1],\n",
              "         [   2],\n",
              "         ...,\n",
              "         [2557],\n",
              "         [2558],\n",
              "         [2559]]),\n",
              " 'target_scale': tensor([[17.6283,  1.9377],\n",
              "         [29.0107,  1.4656],\n",
              "         [ 7.4859,  1.1423],\n",
              "         ...,\n",
              "         [27.3812,  4.1495],\n",
              "         [26.9590,  2.9504],\n",
              "         [16.9622,  2.2673]])}"
            ]
          },
          "metadata": {
            "tags": []
          },
          "execution_count": 42
        }
      ]
    },
    {
      "cell_type": "code",
      "metadata": {
        "id": "LTWSjWZJjbFX"
      },
      "source": [
        "#raw predictions are a dictionary from which all kind of information including quantiles can be extracted\n",
        "raw_predictions, x = best_tft.predict(val_dataloader, mode=\"raw\", return_x=True, show_progress_bar=True)\n"
      ],
      "execution_count": null,
      "outputs": []
    },
    {
      "cell_type": "code",
      "metadata": {
        "id": "qiqypO1ZjbFX"
      },
      "source": [
        "for idx in range(10):  # plot 10 examples\n",
        "    best_tft.plot_prediction(x, raw_predictions, idx=0, add_loss_to_title=True);\n"
      ],
      "execution_count": null,
      "outputs": []
    },
    {
      "cell_type": "code",
      "metadata": {
        "id": "aNmIBFr_jbFY"
      },
      "source": [
        "# calcualte metric by which to display\n",
        "predictions = best_tft.predict(val_dataloader)\n",
        "mean_losses = SMAPE(reduction=\"none\")(predictions, actuals).mean(1)\n",
        "indices = mean_losses.argsort(descending=True)  # sort losses\n",
        "for idx in range(10):  # plot 10 examples\n",
        "    best_tft.plot_prediction(\n",
        "        x, raw_predictions, idx=indices[idx], add_loss_to_title=SMAPE(quantiles=best_tft.loss.quantiles)\n",
        "    );\n"
      ],
      "execution_count": null,
      "outputs": []
    },
    {
      "cell_type": "code",
      "metadata": {
        "id": "W54t4v0RjbFY"
      },
      "source": [
        "#predictions\n",
        "#mean_losses\n",
        "indices"
      ],
      "execution_count": null,
      "outputs": []
    },
    {
      "cell_type": "code",
      "metadata": {
        "id": "LZQ4IZsRjbFY"
      },
      "source": [
        "predictions"
      ],
      "execution_count": null,
      "outputs": []
    },
    {
      "cell_type": "code",
      "metadata": {
        "id": "GMmxFlfLjbFY"
      },
      "source": [
        "mean_losses"
      ],
      "execution_count": null,
      "outputs": []
    },
    {
      "cell_type": "code",
      "metadata": {
        "id": "fUbGMwjCjbFY"
      },
      "source": [
        "\n",
        "predictions, x = best_tft.predict(val_dataloader, return_x=True)\n",
        "predictions_vs_actuals = best_tft.calculate_prediction_actual_by_variable(x, predictions)\n",
        "best_tft.plot_prediction_actual_by_variable(predictions_vs_actuals);"
      ],
      "execution_count": null,
      "outputs": []
    },
    {
      "cell_type": "code",
      "metadata": {
        "id": "qQ35sx1ejbFY",
        "outputId": "f8ea2d68-0110-4231-870e-0b137d2d297d"
      },
      "source": [
        "best_tft.predict(\n",
        "    training.filter(lambda x: (x.asin == 'B0000AA8UL')  & (x.time_idx_first_prediction == 9)),\n",
        "    mode=\"quantiles\",\n",
        ")"
      ],
      "execution_count": null,
      "outputs": [
        {
          "output_type": "execute_result",
          "data": {
            "text/plain": [
              "tensor([[[25.5603, 27.0802, 28.0129, 28.8257, 29.7332, 30.7322, 32.6567],\n",
              "         [24.5800, 26.4464, 27.5406, 28.4305, 29.3895, 30.4814, 32.6389],\n",
              "         [24.6447, 26.2739, 27.2250, 27.9917, 28.8193, 29.7530, 31.6165]],\n",
              "\n",
              "        [[25.5586, 27.0796, 28.0127, 28.8259, 29.7339, 30.7336, 32.6593],\n",
              "         [24.5778, 26.4455, 27.5403, 28.4307, 29.3902, 30.4827, 32.6417],\n",
              "         [24.6434, 26.2733, 27.2248, 27.9918, 28.8197, 29.7537, 31.6180]],\n",
              "\n",
              "        [[25.5540, 27.0780, 28.0122, 28.8267, 29.7359, 30.7375, 32.6661],\n",
              "         [24.5719, 26.4431, 27.5397, 28.4315, 29.3920, 30.4862, 32.6491],\n",
              "         [24.6401, 26.2719, 27.2244, 27.9922, 28.8207, 29.7557, 31.6220]],\n",
              "\n",
              "        [[25.5686, 27.0832, 28.0139, 28.8244, 29.7297, 30.7254, 32.6446],\n",
              "         [24.5908, 26.4509, 27.5417, 28.4292, 29.3863, 30.4750, 32.6253],\n",
              "         [24.6512, 26.2767, 27.2260, 27.9912, 28.8175, 29.7494, 31.6091]],\n",
              "\n",
              "        [[25.5682, 27.0830, 28.0138, 28.8244, 29.7299, 30.7257, 32.6451],\n",
              "         [24.5903, 26.4507, 27.5416, 28.4293, 29.3864, 30.4753, 32.6259],\n",
              "         [24.6509, 26.2766, 27.2260, 27.9912, 28.8176, 29.7496, 31.6094]],\n",
              "\n",
              "        [[25.5675, 27.0828, 28.0137, 28.8245, 29.7301, 30.7263, 32.6461],\n",
              "         [24.5894, 26.4503, 27.5415, 28.4293, 29.3867, 30.4758, 32.6270],\n",
              "         [24.6503, 26.2763, 27.2259, 27.9912, 28.8177, 29.7499, 31.6100]],\n",
              "\n",
              "        [[25.5541, 27.0780, 28.0122, 28.8266, 29.7358, 30.7373, 32.6659],\n",
              "         [24.5720, 26.4431, 27.5397, 28.4314, 29.3919, 30.4860, 32.6489],\n",
              "         [24.6402, 26.2719, 27.2243, 27.9921, 28.8206, 29.7556, 31.6218]],\n",
              "\n",
              "        [[25.5695, 27.0835, 28.0140, 28.8242, 29.7293, 30.7246, 32.6432],\n",
              "         [24.5920, 26.4514, 27.5418, 28.4290, 29.3859, 30.4742, 32.6237],\n",
              "         [24.6519, 26.2770, 27.2261, 27.9911, 28.8173, 29.7490, 31.6082]],\n",
              "\n",
              "        [[25.5549, 27.0783, 28.0122, 28.8264, 29.7354, 30.7365, 32.6645],\n",
              "         [24.5731, 26.4436, 27.5398, 28.4312, 29.3915, 30.4853, 32.6474],\n",
              "         [24.6408, 26.2721, 27.2244, 27.9920, 28.8204, 29.7552, 31.6210]],\n",
              "\n",
              "        [[25.5679, 27.0829, 28.0138, 28.8244, 29.7299, 30.7258, 32.6454],\n",
              "         [24.5900, 26.4505, 27.5415, 28.4292, 29.3865, 30.4754, 32.6262],\n",
              "         [24.6506, 26.2764, 27.2259, 27.9911, 28.8176, 29.7496, 31.6095]],\n",
              "\n",
              "        [[25.5536, 27.0778, 28.0121, 28.8266, 29.7360, 30.7376, 32.6665],\n",
              "         [24.5714, 26.4429, 27.5396, 28.4314, 29.3920, 30.4863, 32.6495],\n",
              "         [24.6398, 26.2717, 27.2242, 27.9921, 28.8207, 29.7558, 31.6222]],\n",
              "\n",
              "        [[25.5663, 27.0823, 28.0135, 28.8246, 29.7305, 30.7271, 32.6476],\n",
              "         [24.5879, 26.4496, 27.5413, 28.4294, 29.3870, 30.4765, 32.6287],\n",
              "         [24.6493, 26.2758, 27.2256, 27.9912, 28.8178, 29.7502, 31.6109]]])"
            ]
          },
          "metadata": {
            "tags": []
          },
          "execution_count": 70
        }
      ]
    },
    {
      "cell_type": "code",
      "metadata": {
        "id": "Mftxv2QzjbFZ",
        "outputId": "f059102f-3154-401c-bc65-d7b9db9b80ca"
      },
      "source": [
        "raw_prediction, x = best_tft.predict(\n",
        "    training.filter(lambda x: (x.asin == \"B0000AA8UL\")  & (x.time_idx_first_prediction == 9)),\n",
        "    mode=\"raw\",\n",
        "    return_x=True,\n",
        ")\n",
        "best_tft.plot_prediction(x, raw_prediction, idx=0);\n"
      ],
      "execution_count": null,
      "outputs": [
        {
          "output_type": "error",
          "ename": "RuntimeError",
          "evalue": "index 36 is out of bounds for dimension 0 with size 11",
          "traceback": [
            "\u001b[1;31m---------------------------------------------------------------------------\u001b[0m",
            "\u001b[1;31mRuntimeError\u001b[0m                              Traceback (most recent call last)",
            "\u001b[1;32m<ipython-input-71-fd36e6bcecf9>\u001b[0m in \u001b[0;36m<module>\u001b[1;34m\u001b[0m\n\u001b[0;32m      4\u001b[0m     \u001b[0mreturn_x\u001b[0m\u001b[1;33m=\u001b[0m\u001b[1;32mTrue\u001b[0m\u001b[1;33m,\u001b[0m\u001b[1;33m\u001b[0m\u001b[1;33m\u001b[0m\u001b[0m\n\u001b[0;32m      5\u001b[0m )\n\u001b[1;32m----> 6\u001b[1;33m \u001b[0mbest_tft\u001b[0m\u001b[1;33m.\u001b[0m\u001b[0mplot_prediction\u001b[0m\u001b[1;33m(\u001b[0m\u001b[0mx\u001b[0m\u001b[1;33m,\u001b[0m \u001b[0mraw_prediction\u001b[0m\u001b[1;33m,\u001b[0m \u001b[0midx\u001b[0m\u001b[1;33m=\u001b[0m\u001b[1;36m0\u001b[0m\u001b[1;33m)\u001b[0m\u001b[1;33m;\u001b[0m\u001b[1;33m\u001b[0m\u001b[1;33m\u001b[0m\u001b[0m\n\u001b[0m",
            "\u001b[1;32m~\\anaconda3\\lib\\site-packages\\pytorch_forecasting\\models\\temporal_fusion_transformer\\__init__.py\u001b[0m in \u001b[0;36mplot_prediction\u001b[1;34m(self, x, out, idx, plot_attention, add_loss_to_title, show_future_observed, ax)\u001b[0m\n\u001b[0;32m    684\u001b[0m         \u001b[1;31m# add attention on secondary axis\u001b[0m\u001b[1;33m\u001b[0m\u001b[1;33m\u001b[0m\u001b[1;33m\u001b[0m\u001b[0m\n\u001b[0;32m    685\u001b[0m         \u001b[1;32mif\u001b[0m \u001b[0mplot_attention\u001b[0m\u001b[1;33m:\u001b[0m\u001b[1;33m\u001b[0m\u001b[1;33m\u001b[0m\u001b[0m\n\u001b[1;32m--> 686\u001b[1;33m             \u001b[0minterpretation\u001b[0m \u001b[1;33m=\u001b[0m \u001b[0mself\u001b[0m\u001b[1;33m.\u001b[0m\u001b[0minterpret_output\u001b[0m\u001b[1;33m(\u001b[0m\u001b[0mout\u001b[0m\u001b[1;33m)\u001b[0m\u001b[1;33m\u001b[0m\u001b[1;33m\u001b[0m\u001b[0m\n\u001b[0m\u001b[0;32m    687\u001b[0m             \u001b[1;32mfor\u001b[0m \u001b[0mf\u001b[0m \u001b[1;32min\u001b[0m \u001b[0mto_list\u001b[0m\u001b[1;33m(\u001b[0m\u001b[0mfig\u001b[0m\u001b[1;33m)\u001b[0m\u001b[1;33m:\u001b[0m\u001b[1;33m\u001b[0m\u001b[1;33m\u001b[0m\u001b[0m\n\u001b[0;32m    688\u001b[0m                 \u001b[0max\u001b[0m \u001b[1;33m=\u001b[0m \u001b[0mf\u001b[0m\u001b[1;33m.\u001b[0m\u001b[0maxes\u001b[0m\u001b[1;33m[\u001b[0m\u001b[1;36m0\u001b[0m\u001b[1;33m]\u001b[0m\u001b[1;33m\u001b[0m\u001b[1;33m\u001b[0m\u001b[0m\n",
            "\u001b[1;32m~\\anaconda3\\lib\\site-packages\\pytorch_forecasting\\models\\temporal_fusion_transformer\\__init__.py\u001b[0m in \u001b[0;36minterpret_output\u001b[1;34m(self, out, reduction, attention_prediction_horizon, attention_as_autocorrelation)\u001b[0m\n\u001b[0;32m    572\u001b[0m \u001b[1;33m\u001b[0m\u001b[0m\n\u001b[0;32m    573\u001b[0m         \u001b[1;31m# histogram of decode and encode lengths\u001b[0m\u001b[1;33m\u001b[0m\u001b[1;33m\u001b[0m\u001b[1;33m\u001b[0m\u001b[0m\n\u001b[1;32m--> 574\u001b[1;33m         \u001b[0mencoder_length_histogram\u001b[0m \u001b[1;33m=\u001b[0m \u001b[0minteger_histogram\u001b[0m\u001b[1;33m(\u001b[0m\u001b[0mout\u001b[0m\u001b[1;33m[\u001b[0m\u001b[1;34m\"encoder_lengths\"\u001b[0m\u001b[1;33m]\u001b[0m\u001b[1;33m,\u001b[0m \u001b[0mmin\u001b[0m\u001b[1;33m=\u001b[0m\u001b[1;36m0\u001b[0m\u001b[1;33m,\u001b[0m \u001b[0mmax\u001b[0m\u001b[1;33m=\u001b[0m\u001b[0mself\u001b[0m\u001b[1;33m.\u001b[0m\u001b[0mhparams\u001b[0m\u001b[1;33m.\u001b[0m\u001b[0mmax_encoder_length\u001b[0m\u001b[1;33m)\u001b[0m\u001b[1;33m\u001b[0m\u001b[1;33m\u001b[0m\u001b[0m\n\u001b[0m\u001b[0;32m    575\u001b[0m         decoder_length_histogram = integer_histogram(\n\u001b[0;32m    576\u001b[0m             \u001b[0mout\u001b[0m\u001b[1;33m[\u001b[0m\u001b[1;34m\"decoder_lengths\"\u001b[0m\u001b[1;33m]\u001b[0m\u001b[1;33m,\u001b[0m \u001b[0mmin\u001b[0m\u001b[1;33m=\u001b[0m\u001b[1;36m1\u001b[0m\u001b[1;33m,\u001b[0m \u001b[0mmax\u001b[0m\u001b[1;33m=\u001b[0m\u001b[0mout\u001b[0m\u001b[1;33m[\u001b[0m\u001b[1;34m\"decoder_variables\"\u001b[0m\u001b[1;33m]\u001b[0m\u001b[1;33m.\u001b[0m\u001b[0msize\u001b[0m\u001b[1;33m(\u001b[0m\u001b[1;36m1\u001b[0m\u001b[1;33m)\u001b[0m\u001b[1;33m\u001b[0m\u001b[1;33m\u001b[0m\u001b[0m\n",
            "\u001b[1;32m~\\anaconda3\\lib\\site-packages\\pytorch_forecasting\\utils.py\u001b[0m in \u001b[0;36minteger_histogram\u001b[1;34m(data, min, max)\u001b[0m\n\u001b[0;32m     31\u001b[0m     \u001b[1;32mif\u001b[0m \u001b[0mmax\u001b[0m \u001b[1;32mis\u001b[0m \u001b[1;32mNone\u001b[0m\u001b[1;33m:\u001b[0m\u001b[1;33m\u001b[0m\u001b[1;33m\u001b[0m\u001b[0m\n\u001b[0;32m     32\u001b[0m         \u001b[0mmax\u001b[0m \u001b[1;33m=\u001b[0m \u001b[0muniques\u001b[0m\u001b[1;33m.\u001b[0m\u001b[0mmax\u001b[0m\u001b[1;33m(\u001b[0m\u001b[1;33m)\u001b[0m\u001b[1;33m\u001b[0m\u001b[1;33m\u001b[0m\u001b[0m\n\u001b[1;32m---> 33\u001b[1;33m     hist = torch.zeros(max - min + 1, dtype=torch.long, device=data.device).scatter(\n\u001b[0m\u001b[0;32m     34\u001b[0m         \u001b[0mdim\u001b[0m\u001b[1;33m=\u001b[0m\u001b[1;36m0\u001b[0m\u001b[1;33m,\u001b[0m \u001b[0mindex\u001b[0m\u001b[1;33m=\u001b[0m\u001b[0muniques\u001b[0m \u001b[1;33m-\u001b[0m \u001b[0mmin\u001b[0m\u001b[1;33m,\u001b[0m \u001b[0msrc\u001b[0m\u001b[1;33m=\u001b[0m\u001b[0mcounts\u001b[0m\u001b[1;33m\u001b[0m\u001b[1;33m\u001b[0m\u001b[0m\n\u001b[0;32m     35\u001b[0m     )\n",
            "\u001b[1;31mRuntimeError\u001b[0m: index 36 is out of bounds for dimension 0 with size 11"
          ]
        },
        {
          "output_type": "display_data",
          "data": {
            "image/png": "[encoded data removed]",
            "text/plain": [
              "<Figure size 432x288 with 1 Axes>"
            ]
          },
          "metadata": {
            "tags": [],
            "needs_background": "light"
          }
        }
      ]
    },
    {
      "cell_type": "code",
      "metadata": {
        "id": "Nr75ocjGjbFZ"
      },
      "source": [
        "# select last 24 months from data (max_encoder_length is 24)\n",
        "encoder_data = df[lambda x: x.time_idx > x.time_idx.max() - max_encoder_length]\n",
        "\n",
        "# select last known data point and create decoder data from it by repeating it and incrementing the month\n",
        "# in a real world dataset, we should not just forward fill the covariates but specify them to account\n",
        "# for changes in special days and prices (which you absolutely should do but we are too lazy here)\n",
        "last_data = df[lambda x: x.time_idx == x.time_idx.max()]\n",
        "decoder_data = pd.concat(\n",
        "    [last_data.assign(date=lambda x: x.date + pd.offsets.MonthBegin(i)) for i in range(1, max_prediction_length + 1)],\n",
        "    ignore_index=True,\n",
        ")\n",
        "\n",
        "# add time index consistent with \"data\"\n",
        "decoder_data[\"time_idx\"] = decoder_data[\"date\"].dt.year * 12 + decoder_data[\"date\"].dt.month\n",
        "decoder_data[\"time_idx\"] += encoder_data[\"time_idx\"].max() + 1 - decoder_data[\"time_idx\"].min()\n",
        "\n",
        "# adjust additional time feature(s)\n",
        "decoder_data[\"month\"] = decoder_data.date.dt.month.astype(str).astype(\"category\")  # categories have be strings\n",
        "\n",
        "# combine encoder and decoder data\n",
        "new_prediction_data = pd.concat([encoder_data, decoder_data], ignore_index=True)"
      ],
      "execution_count": null,
      "outputs": []
    },
    {
      "cell_type": "code",
      "metadata": {
        "id": "5Wd3jEdvjbFZ"
      },
      "source": [
        "new_raw_predictions, new_x = best_tft.predict(new_prediction_data, mode=\"raw\", return_x=True)\n",
        "\n",
        "for idx in range(10):  # plot 10 examples\n",
        "    best_tft.plot_prediction(new_x, new_raw_predictions, idx=idx, show_future_observed=False);"
      ],
      "execution_count": null,
      "outputs": []
    },
    {
      "cell_type": "code",
      "metadata": {
        "id": "aNBMKi95jbFZ"
      },
      "source": [
        "interpretation = best_tft.interpret_output(raw_predictions, reduction=\"sum\")\n",
        "best_tft.plot_interpretation(interpretation)"
      ],
      "execution_count": null,
      "outputs": []
    },
    {
      "cell_type": "code",
      "metadata": {
        "id": "SMK6E39ujbFZ"
      },
      "source": [
        "dependency = best_tft.predict_dependency(\n",
        "    val_dataloader.dataset, \"discount_in_percent\", np.linspace(0, 30, 30), show_progress_bar=True, mode=\"dataframe\"\n",
        ")\n",
        "# plotting median and 25% and 75% percentile\n",
        "agg_dependency = dependency.groupby(\"discount_in_percent\").normalized_prediction.agg(\n",
        "    median=\"median\", q25=lambda x: x.quantile(0.25), q75=lambda x: x.quantile(0.75)\n",
        ")\n",
        "ax = agg_dependency.plot(y=\"median\")\n",
        "ax.fill_between(agg_dependency.index, agg_dependency.q25, agg_dependency.q75, alpha=0.3);"
      ],
      "execution_count": null,
      "outputs": []
    },
    {
      "cell_type": "code",
      "metadata": {
        "id": "K_YzF69rjbFa"
      },
      "source": [
        ""
      ],
      "execution_count": null,
      "outputs": []
    },
    {
      "cell_type": "code",
      "metadata": {
        "id": "ObrrtlIzjbFa"
      },
      "source": [
        ""
      ],
      "execution_count": null,
      "outputs": []
    }
  ]
}